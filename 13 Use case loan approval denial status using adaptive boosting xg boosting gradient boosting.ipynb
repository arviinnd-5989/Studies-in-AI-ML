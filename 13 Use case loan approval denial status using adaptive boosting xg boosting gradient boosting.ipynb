{
 "cells": [
  {
   "cell_type": "markdown",
   "metadata": {},
   "source": [
    "# ADAPTIVE BOOSTING, XG BOOST AND GRADIENT BOOSTING"
   ]
  },
  {
   "cell_type": "markdown",
   "metadata": {},
   "source": [
    "The aim of this case study is to predict the loan approval or denial status of an applicant using adaptive boosting, XG boost and gradient boosting algorithms. First we load the dataset and the libraries into the code. We then carry out data exploration activities like taking a peek at the data, studying descriptive statistics, class distributions and correlation between attributes. We further explore the data and then carry out data visualization using univariate (histogram, density and box and whisker) plots and multivariate (scatter plot matrix and correlation matrix) plots. We then split the data into train and test data and then instantiate models using Adaptive boosting, XG boost and gradient boosting . Then the models are fitted and the acuracy is found out. We predict the values and plot the confusion matrix. The models give accuracies of 87%, 87% and 88 % respectively. "
   ]
  },
  {
   "cell_type": "code",
   "execution_count": 8,
   "metadata": {},
   "outputs": [],
   "source": [
    "# Load Libraries"
   ]
  },
  {
   "cell_type": "code",
   "execution_count": 9,
   "metadata": {},
   "outputs": [],
   "source": [
    "import numpy as np\n",
    "import pandas as pd\n",
    "import matplotlib.pyplot as plt\n",
    "from sklearn.metrics import confusion_matrix, mean_absolute_error\n",
    "from sklearn import metrics\n",
    "from patsy import dmatrices\n",
    "import seaborn as sns\n",
    "from sklearn.model_selection import train_test_split\n",
    "from sklearn.tree import DecisionTreeClassifier\n",
    "from sklearn.ensemble import RandomForestClassifier"
   ]
  },
  {
   "cell_type": "code",
   "execution_count": 10,
   "metadata": {},
   "outputs": [],
   "source": [
    "# LOAD DATASET"
   ]
  },
  {
   "cell_type": "code",
   "execution_count": 11,
   "metadata": {},
   "outputs": [],
   "source": [
    "df = pd.read_excel(\"Decision.xlsx\")"
   ]
  },
  {
   "cell_type": "code",
   "execution_count": 12,
   "metadata": {},
   "outputs": [
    {
     "data": {
      "text/plain": [
       "(7759, 29)"
      ]
     },
     "execution_count": 12,
     "metadata": {},
     "output_type": "execute_result"
    }
   ],
   "source": [
    "df.shape"
   ]
  },
  {
   "cell_type": "code",
   "execution_count": 13,
   "metadata": {},
   "outputs": [
    {
     "data": {
      "text/plain": [
       "(array([ 4437.,     0.,     0.,     0.,     0.,     0.,     0.,     0.,\n",
       "            0.,  3322.]),\n",
       " array([ 0. ,  0.1,  0.2,  0.3,  0.4,  0.5,  0.6,  0.7,  0.8,  0.9,  1. ]),\n",
       " <a list of 10 Patch objects>)"
      ]
     },
     "execution_count": 13,
     "metadata": {},
     "output_type": "execute_result"
    },
    {
     "data": {
      "image/png": "[encoded data removed]",
      "text/plain": [
       "<matplotlib.figure.Figure at 0x7fdbd7234cc0>"
      ]
     },
     "metadata": {},
     "output_type": "display_data"
    }
   ],
   "source": [
    "plt.hist(df['APPLICATION.STATUS']) # IMBALANCED DATASET"
   ]
  },
  {
   "cell_type": "code",
   "execution_count": 14,
   "metadata": {},
   "outputs": [],
   "source": [
    "# DROP COLUMNS, SIMPLIFY MODEL"
   ]
  },
  {
   "cell_type": "code",
   "execution_count": 15,
   "metadata": {},
   "outputs": [],
   "source": [
    "df1 = df.drop(['APPLICATION.ID','DSA.ID','DEALER.ID','CITY','STATE','ZIP.CODE','PRIMARY.ASSET.CTG','PRIMARY.ASSET.MAKE','PRIMARY.ASSET.MODELNO','QUEUE.ID','CURRENT.STAGE','QUEUE.ID','VOTER_ID','AADHAAR','DRIVING_LICENSE','BANK_PASSBOOK','PAN.STATUS','PAN'],axis =1)"
   ]
  },
  {
   "cell_type": "markdown",
   "metadata": {},
   "source": [
    "# DATA EXPLORATION"
   ]
  },
  {
   "cell_type": "code",
   "execution_count": 16,
   "metadata": {},
   "outputs": [],
   "source": [
    "# 1. PEEK AT DATA"
   ]
  },
  {
   "cell_type": "code",
   "execution_count": 17,
   "metadata": {},
   "outputs": [
    {
     "data": {
      "text/html": [
       "<div>\n",
       "<style scoped>\n",
       "    .dataframe tbody tr th:only-of-type {\n",
       "        vertical-align: middle;\n",
       "    }\n",
       "\n",
       "    .dataframe tbody tr th {\n",
       "        vertical-align: top;\n",
       "    }\n",
       "\n",
       "    .dataframe thead th {\n",
       "        text-align: right;\n",
       "    }\n",
       "</style>\n",
       "<table border=\"1\" class=\"dataframe\">\n",
       "  <thead>\n",
       "    <tr style=\"text-align: right;\">\n",
       "      <th></th>\n",
       "      <th>MARITAL.STATUS</th>\n",
       "      <th>GENDER</th>\n",
       "      <th>AGE</th>\n",
       "      <th>EDUCATION</th>\n",
       "      <th>RESIDENCE.TYPE</th>\n",
       "      <th>EMPLOY.CONSTITUTION</th>\n",
       "      <th>APPLICATION.SCORE</th>\n",
       "      <th>APPROVED.AMOUNT</th>\n",
       "      <th>APPLIED.AMOUNT</th>\n",
       "      <th>LOAN.TENOR</th>\n",
       "      <th>OWN.HOUSE.TYPE</th>\n",
       "      <th>APPLICATION.STATUS</th>\n",
       "    </tr>\n",
       "  </thead>\n",
       "  <tbody>\n",
       "    <tr>\n",
       "      <th>0</th>\n",
       "      <td>Single</td>\n",
       "      <td>Male</td>\n",
       "      <td>30</td>\n",
       "      <td>GRADUATE</td>\n",
       "      <td>OWNED-BUNGLOW</td>\n",
       "      <td>SELF-EMPLOYED</td>\n",
       "      <td>69.0</td>\n",
       "      <td>32321</td>\n",
       "      <td>28000</td>\n",
       "      <td>10</td>\n",
       "      <td>Self Owned</td>\n",
       "      <td>Declined</td>\n",
       "    </tr>\n",
       "    <tr>\n",
       "      <th>1</th>\n",
       "      <td>Married</td>\n",
       "      <td>Male</td>\n",
       "      <td>38</td>\n",
       "      <td>OTHERS</td>\n",
       "      <td>PARENT OWNED-HOUSE</td>\n",
       "      <td>SELF-EMPLOYED</td>\n",
       "      <td>108.0</td>\n",
       "      <td>47000</td>\n",
       "      <td>47000</td>\n",
       "      <td>12</td>\n",
       "      <td>Parent Owned</td>\n",
       "      <td>Approved</td>\n",
       "    </tr>\n",
       "    <tr>\n",
       "      <th>2</th>\n",
       "      <td>Married</td>\n",
       "      <td>Male</td>\n",
       "      <td>52</td>\n",
       "      <td>GRADUATE</td>\n",
       "      <td>OWNED-ROWHOUSE</td>\n",
       "      <td>SELF-EMPLOYED</td>\n",
       "      <td>143.0</td>\n",
       "      <td>30000</td>\n",
       "      <td>30000</td>\n",
       "      <td>12</td>\n",
       "      <td>Self Owned</td>\n",
       "      <td>Approved</td>\n",
       "    </tr>\n",
       "    <tr>\n",
       "      <th>3</th>\n",
       "      <td>Married</td>\n",
       "      <td>Male</td>\n",
       "      <td>57</td>\n",
       "      <td>GRADUATE</td>\n",
       "      <td>OWNED-BUNGLOW</td>\n",
       "      <td>SELF-EMPLOYED</td>\n",
       "      <td>60.0</td>\n",
       "      <td>32321</td>\n",
       "      <td>49000</td>\n",
       "      <td>12</td>\n",
       "      <td>Self Owned</td>\n",
       "      <td>Declined</td>\n",
       "    </tr>\n",
       "    <tr>\n",
       "      <th>4</th>\n",
       "      <td>Married</td>\n",
       "      <td>Male</td>\n",
       "      <td>38</td>\n",
       "      <td>GRADUATE</td>\n",
       "      <td>OWNED-BUNGLOW</td>\n",
       "      <td>SALARIED</td>\n",
       "      <td>62.0</td>\n",
       "      <td>32321</td>\n",
       "      <td>45000</td>\n",
       "      <td>10</td>\n",
       "      <td>Self Owned</td>\n",
       "      <td>Approved</td>\n",
       "    </tr>\n",
       "  </tbody>\n",
       "</table>\n",
       "</div>"
      ],
      "text/plain": [
       "  MARITAL.STATUS GENDER  AGE EDUCATION      RESIDENCE.TYPE  \\\n",
       "0         Single   Male   30  GRADUATE       OWNED-BUNGLOW   \n",
       "1        Married   Male   38    OTHERS  PARENT OWNED-HOUSE   \n",
       "2        Married   Male   52  GRADUATE      OWNED-ROWHOUSE   \n",
       "3        Married   Male   57  GRADUATE       OWNED-BUNGLOW   \n",
       "4        Married   Male   38  GRADUATE       OWNED-BUNGLOW   \n",
       "\n",
       "  EMPLOY.CONSTITUTION  APPLICATION.SCORE  APPROVED.AMOUNT  APPLIED.AMOUNT  \\\n",
       "0       SELF-EMPLOYED               69.0            32321           28000   \n",
       "1       SELF-EMPLOYED              108.0            47000           47000   \n",
       "2       SELF-EMPLOYED              143.0            30000           30000   \n",
       "3       SELF-EMPLOYED               60.0            32321           49000   \n",
       "4            SALARIED               62.0            32321           45000   \n",
       "\n",
       "   LOAN.TENOR OWN.HOUSE.TYPE APPLICATION.STATUS  \n",
       "0          10     Self Owned           Declined  \n",
       "1          12   Parent Owned           Approved  \n",
       "2          12     Self Owned           Approved  \n",
       "3          12     Self Owned           Declined  \n",
       "4          10     Self Owned           Approved  "
      ]
     },
     "execution_count": 17,
     "metadata": {},
     "output_type": "execute_result"
    }
   ],
   "source": [
    "df1.head()"
   ]
  },
  {
   "cell_type": "code",
   "execution_count": 18,
   "metadata": {},
   "outputs": [],
   "source": [
    "# 2. DIMENSIONS"
   ]
  },
  {
   "cell_type": "code",
   "execution_count": 19,
   "metadata": {},
   "outputs": [
    {
     "data": {
      "text/plain": [
       "(7759, 12)"
      ]
     },
     "execution_count": 19,
     "metadata": {},
     "output_type": "execute_result"
    }
   ],
   "source": [
    "df1.shape"
   ]
  },
  {
   "cell_type": "code",
   "execution_count": 20,
   "metadata": {},
   "outputs": [],
   "source": [
    "# 3. DATA TYPES"
   ]
  },
  {
   "cell_type": "code",
   "execution_count": 21,
   "metadata": {},
   "outputs": [
    {
     "data": {
      "text/plain": [
       "MARITAL.STATUS          object\n",
       "GENDER                  object\n",
       "AGE                      int64\n",
       "EDUCATION               object\n",
       "RESIDENCE.TYPE          object\n",
       "EMPLOY.CONSTITUTION     object\n",
       "APPLICATION.SCORE      float64\n",
       "APPROVED.AMOUNT          int64\n",
       "APPLIED.AMOUNT           int64\n",
       "LOAN.TENOR               int64\n",
       "OWN.HOUSE.TYPE          object\n",
       "APPLICATION.STATUS      object\n",
       "dtype: object"
      ]
     },
     "execution_count": 21,
     "metadata": {},
     "output_type": "execute_result"
    }
   ],
   "source": [
    "df1.dtypes"
   ]
  },
  {
   "cell_type": "code",
   "execution_count": 22,
   "metadata": {},
   "outputs": [],
   "source": [
    "# 4. DESCRIPTIVE STATISTICS"
   ]
  },
  {
   "cell_type": "code",
   "execution_count": 23,
   "metadata": {},
   "outputs": [
    {
     "data": {
      "text/html": [
       "<div>\n",
       "<style scoped>\n",
       "    .dataframe tbody tr th:only-of-type {\n",
       "        vertical-align: middle;\n",
       "    }\n",
       "\n",
       "    .dataframe tbody tr th {\n",
       "        vertical-align: top;\n",
       "    }\n",
       "\n",
       "    .dataframe thead th {\n",
       "        text-align: right;\n",
       "    }\n",
       "</style>\n",
       "<table border=\"1\" class=\"dataframe\">\n",
       "  <thead>\n",
       "    <tr style=\"text-align: right;\">\n",
       "      <th></th>\n",
       "      <th>AGE</th>\n",
       "      <th>APPLICATION.SCORE</th>\n",
       "      <th>APPROVED.AMOUNT</th>\n",
       "      <th>APPLIED.AMOUNT</th>\n",
       "      <th>LOAN.TENOR</th>\n",
       "    </tr>\n",
       "  </thead>\n",
       "  <tbody>\n",
       "    <tr>\n",
       "      <th>count</th>\n",
       "      <td>7759.000000</td>\n",
       "      <td>7759.000000</td>\n",
       "      <td>7759.000000</td>\n",
       "      <td>7759.000000</td>\n",
       "      <td>7759.000000</td>\n",
       "    </tr>\n",
       "    <tr>\n",
       "      <th>mean</th>\n",
       "      <td>35.693259</td>\n",
       "      <td>46.343204</td>\n",
       "      <td>32321.418997</td>\n",
       "      <td>34211.627014</td>\n",
       "      <td>13.129656</td>\n",
       "    </tr>\n",
       "    <tr>\n",
       "      <th>std</th>\n",
       "      <td>9.391776</td>\n",
       "      <td>34.835119</td>\n",
       "      <td>9988.441681</td>\n",
       "      <td>18952.163116</td>\n",
       "      <td>12.682123</td>\n",
       "    </tr>\n",
       "    <tr>\n",
       "      <th>min</th>\n",
       "      <td>12.000000</td>\n",
       "      <td>-45.000000</td>\n",
       "      <td>7001.000000</td>\n",
       "      <td>10.000000</td>\n",
       "      <td>0.000000</td>\n",
       "    </tr>\n",
       "    <tr>\n",
       "      <th>25%</th>\n",
       "      <td>28.000000</td>\n",
       "      <td>13.000000</td>\n",
       "      <td>32000.000000</td>\n",
       "      <td>21000.000000</td>\n",
       "      <td>10.000000</td>\n",
       "    </tr>\n",
       "    <tr>\n",
       "      <th>50%</th>\n",
       "      <td>34.000000</td>\n",
       "      <td>42.000000</td>\n",
       "      <td>32321.000000</td>\n",
       "      <td>30000.000000</td>\n",
       "      <td>12.000000</td>\n",
       "    </tr>\n",
       "    <tr>\n",
       "      <th>75%</th>\n",
       "      <td>42.000000</td>\n",
       "      <td>73.000000</td>\n",
       "      <td>32321.000000</td>\n",
       "      <td>43870.000000</td>\n",
       "      <td>12.000000</td>\n",
       "    </tr>\n",
       "    <tr>\n",
       "      <th>max</th>\n",
       "      <td>67.000000</td>\n",
       "      <td>160.000000</td>\n",
       "      <td>300000.000000</td>\n",
       "      <td>800000.000000</td>\n",
       "      <td>360.000000</td>\n",
       "    </tr>\n",
       "  </tbody>\n",
       "</table>\n",
       "</div>"
      ],
      "text/plain": [
       "               AGE  APPLICATION.SCORE  APPROVED.AMOUNT  APPLIED.AMOUNT  \\\n",
       "count  7759.000000        7759.000000      7759.000000     7759.000000   \n",
       "mean     35.693259          46.343204     32321.418997    34211.627014   \n",
       "std       9.391776          34.835119      9988.441681    18952.163116   \n",
       "min      12.000000         -45.000000      7001.000000       10.000000   \n",
       "25%      28.000000          13.000000     32000.000000    21000.000000   \n",
       "50%      34.000000          42.000000     32321.000000    30000.000000   \n",
       "75%      42.000000          73.000000     32321.000000    43870.000000   \n",
       "max      67.000000         160.000000    300000.000000   800000.000000   \n",
       "\n",
       "        LOAN.TENOR  \n",
       "count  7759.000000  \n",
       "mean     13.129656  \n",
       "std      12.682123  \n",
       "min       0.000000  \n",
       "25%      10.000000  \n",
       "50%      12.000000  \n",
       "75%      12.000000  \n",
       "max     360.000000  "
      ]
     },
     "execution_count": 23,
     "metadata": {},
     "output_type": "execute_result"
    }
   ],
   "source": [
    "df1.describe()"
   ]
  },
  {
   "cell_type": "code",
   "execution_count": 24,
   "metadata": {},
   "outputs": [],
   "source": [
    "# 5. CLASS DISTRIBUTION"
   ]
  },
  {
   "cell_type": "code",
   "execution_count": 25,
   "metadata": {},
   "outputs": [
    {
     "data": {
      "text/plain": [
       "MARITAL.STATUS\n",
       "Married    6257\n",
       "Single     1502\n",
       "dtype: int64"
      ]
     },
     "execution_count": 25,
     "metadata": {},
     "output_type": "execute_result"
    }
   ],
   "source": [
    "df1.groupby(\"MARITAL.STATUS\").size()"
   ]
  },
  {
   "cell_type": "code",
   "execution_count": 26,
   "metadata": {},
   "outputs": [
    {
     "data": {
      "text/plain": [
       "(array([ 6257.,     0.,     0.,     0.,     0.,     0.,     0.,     0.,\n",
       "            0.,  1502.]),\n",
       " array([ 0. ,  0.1,  0.2,  0.3,  0.4,  0.5,  0.6,  0.7,  0.8,  0.9,  1. ]),\n",
       " <a list of 10 Patch objects>)"
      ]
     },
     "execution_count": 26,
     "metadata": {},
     "output_type": "execute_result"
    },
    {
     "data": {
      "image/png": "[encoded data removed]",
      "text/plain": [
       "<matplotlib.figure.Figure at 0x7fdbdf6d6d68>"
      ]
     },
     "metadata": {},
     "output_type": "display_data"
    }
   ],
   "source": [
    "plt.hist(df1['MARITAL.STATUS']) "
   ]
  },
  {
   "cell_type": "code",
   "execution_count": 27,
   "metadata": {},
   "outputs": [
    {
     "data": {
      "text/plain": [
       "GENDER\n",
       "Female    1270\n",
       "Male      6489\n",
       "dtype: int64"
      ]
     },
     "execution_count": 27,
     "metadata": {},
     "output_type": "execute_result"
    }
   ],
   "source": [
    "df1.groupby(\"GENDER\").size()"
   ]
  },
  {
   "cell_type": "code",
   "execution_count": 28,
   "metadata": {},
   "outputs": [
    {
     "data": {
      "text/plain": [
       "(array([ 1270.,     0.,     0.,     0.,     0.,     0.,     0.,     0.,\n",
       "            0.,  6489.]),\n",
       " array([ 0. ,  0.1,  0.2,  0.3,  0.4,  0.5,  0.6,  0.7,  0.8,  0.9,  1. ]),\n",
       " <a list of 10 Patch objects>)"
      ]
     },
     "execution_count": 28,
     "metadata": {},
     "output_type": "execute_result"
    },
    {
     "data": {
      "image/png": "[encoded data removed]",
      "text/plain": [
       "<matplotlib.figure.Figure at 0x7fdbd69704a8>"
      ]
     },
     "metadata": {},
     "output_type": "display_data"
    }
   ],
   "source": [
    "plt.hist(df1['GENDER']) "
   ]
  },
  {
   "cell_type": "code",
   "execution_count": 29,
   "metadata": {},
   "outputs": [
    {
     "data": {
      "text/plain": [
       "EDUCATION\n",
       "DOCTORATE           12\n",
       "GRADUATE          4257\n",
       "OTHERS            1227\n",
       "POST-GRADUATE      419\n",
       "PROFESSIONAL        32\n",
       "UNDER GRADUATE    1812\n",
       "dtype: int64"
      ]
     },
     "execution_count": 29,
     "metadata": {},
     "output_type": "execute_result"
    }
   ],
   "source": [
    "df1.groupby(\"EDUCATION\").size()"
   ]
  },
  {
   "cell_type": "code",
   "execution_count": 30,
   "metadata": {},
   "outputs": [
    {
     "data": {
      "text/plain": [
       "RESIDENCE.TYPE\n",
       "COMPANY PROVIDED-FLAT             33\n",
       "COMPANY PROVIDED-HOUSE            49\n",
       "OWNED-BUNGLOW                   1006\n",
       "OWNED-CHAWL                      284\n",
       "OWNED-FLAT                      1154\n",
       "OWNED-PENTHOUSE                  669\n",
       "OWNED-ROWHOUSE                  1064\n",
       "PARENT OWNED-FLAT                 83\n",
       "PARENT OWNED-HOUSE              1301\n",
       "RENTED-BACHELOR ACCOMODATION       1\n",
       "RENTED-BUNGLOW                   288\n",
       "RENTED-CHAWL                     147\n",
       "RENTED-FLAT                      770\n",
       "RENTED-PENTHOUSE                 307\n",
       "RENTED-ROWHOUSE                  603\n",
       "dtype: int64"
      ]
     },
     "execution_count": 30,
     "metadata": {},
     "output_type": "execute_result"
    }
   ],
   "source": [
    "df1.groupby(\"RESIDENCE.TYPE\").size()"
   ]
  },
  {
   "cell_type": "code",
   "execution_count": 31,
   "metadata": {},
   "outputs": [
    {
     "data": {
      "text/plain": [
       "EMPLOY.CONSTITUTION\n",
       "PARTNERSHIP                  17\n",
       "PRIVATE LIMITED COMPANY      21\n",
       "SALARIED                   3409\n",
       "SELF-EMPLOYED              4305\n",
       "TRUST                         7\n",
       "dtype: int64"
      ]
     },
     "execution_count": 31,
     "metadata": {},
     "output_type": "execute_result"
    }
   ],
   "source": [
    "df1.groupby(\"EMPLOY.CONSTITUTION\").size()"
   ]
  },
  {
   "cell_type": "code",
   "execution_count": 32,
   "metadata": {},
   "outputs": [
    {
     "data": {
      "text/plain": [
       "(array([   17.,     0.,    21.,     0.,     0.,  3409.,     0.,  4305.,\n",
       "            0.,     7.]),\n",
       " array([ 0. ,  0.4,  0.8,  1.2,  1.6,  2. ,  2.4,  2.8,  3.2,  3.6,  4. ]),\n",
       " <a list of 10 Patch objects>)"
      ]
     },
     "execution_count": 32,
     "metadata": {},
     "output_type": "execute_result"
    },
    {
     "data": {
      "image/png": "[encoded data removed]",
      "text/plain": [
       "<matplotlib.figure.Figure at 0x7fdbd7209470>"
      ]
     },
     "metadata": {},
     "output_type": "display_data"
    }
   ],
   "source": [
    "plt.hist(df1['EMPLOY.CONSTITUTION']) "
   ]
  },
  {
   "cell_type": "code",
   "execution_count": 33,
   "metadata": {},
   "outputs": [
    {
     "data": {
      "text/plain": [
       "OWN.HOUSE.TYPE\n",
       "Children Owned      11\n",
       "Parent Owned      1815\n",
       "Self Owned        5699\n",
       "Spouse Owned       234\n",
       "dtype: int64"
      ]
     },
     "execution_count": 33,
     "metadata": {},
     "output_type": "execute_result"
    }
   ],
   "source": [
    "df1.groupby(\"OWN.HOUSE.TYPE\").size()"
   ]
  },
  {
   "cell_type": "code",
   "execution_count": 34,
   "metadata": {},
   "outputs": [
    {
     "data": {
      "text/plain": [
       "(array([   11.,     0.,     0.,  1815.,     0.,     0.,  5699.,     0.,\n",
       "            0.,   234.]),\n",
       " array([ 0. ,  0.3,  0.6,  0.9,  1.2,  1.5,  1.8,  2.1,  2.4,  2.7,  3. ]),\n",
       " <a list of 10 Patch objects>)"
      ]
     },
     "execution_count": 34,
     "metadata": {},
     "output_type": "execute_result"
    },
    {
     "data": {
      "image/png": "[encoded data removed]",
      "text/plain": [
       "<matplotlib.figure.Figure at 0x7fdbd6d1a518>"
      ]
     },
     "metadata": {},
     "output_type": "display_data"
    }
   ],
   "source": [
    "plt.hist(df1['OWN.HOUSE.TYPE']) "
   ]
  },
  {
   "cell_type": "code",
   "execution_count": 35,
   "metadata": {},
   "outputs": [
    {
     "data": {
      "text/plain": [
       "APPLICATION.STATUS\n",
       "Approved    4437\n",
       "Declined    3322\n",
       "dtype: int64"
      ]
     },
     "execution_count": 35,
     "metadata": {},
     "output_type": "execute_result"
    }
   ],
   "source": [
    "df1.groupby(\"APPLICATION.STATUS\").size()"
   ]
  },
  {
   "cell_type": "code",
   "execution_count": 36,
   "metadata": {},
   "outputs": [
    {
     "data": {
      "text/plain": [
       "(array([ 4437.,     0.,     0.,     0.,     0.,     0.,     0.,     0.,\n",
       "            0.,  3322.]),\n",
       " array([ 0. ,  0.1,  0.2,  0.3,  0.4,  0.5,  0.6,  0.7,  0.8,  0.9,  1. ]),\n",
       " <a list of 10 Patch objects>)"
      ]
     },
     "execution_count": 36,
     "metadata": {},
     "output_type": "execute_result"
    },
    {
     "data": {
      "image/png": "[encoded data removed]",
      "text/plain": [
       "<matplotlib.figure.Figure at 0x7fdbd6e6b710>"
      ]
     },
     "metadata": {},
     "output_type": "display_data"
    }
   ],
   "source": [
    "plt.hist(df1['APPLICATION.STATUS']) "
   ]
  },
  {
   "cell_type": "code",
   "execution_count": 37,
   "metadata": {},
   "outputs": [],
   "source": [
    "# 6. CORRELATION BETWEEN ATTRIBUTES"
   ]
  },
  {
   "cell_type": "code",
   "execution_count": 38,
   "metadata": {},
   "outputs": [
    {
     "data": {
      "text/html": [
       "<div>\n",
       "<style scoped>\n",
       "    .dataframe tbody tr th:only-of-type {\n",
       "        vertical-align: middle;\n",
       "    }\n",
       "\n",
       "    .dataframe tbody tr th {\n",
       "        vertical-align: top;\n",
       "    }\n",
       "\n",
       "    .dataframe thead th {\n",
       "        text-align: right;\n",
       "    }\n",
       "</style>\n",
       "<table border=\"1\" class=\"dataframe\">\n",
       "  <thead>\n",
       "    <tr style=\"text-align: right;\">\n",
       "      <th></th>\n",
       "      <th>AGE</th>\n",
       "      <th>APPLICATION.SCORE</th>\n",
       "      <th>APPROVED.AMOUNT</th>\n",
       "      <th>APPLIED.AMOUNT</th>\n",
       "      <th>LOAN.TENOR</th>\n",
       "    </tr>\n",
       "  </thead>\n",
       "  <tbody>\n",
       "    <tr>\n",
       "      <th>AGE</th>\n",
       "      <td>1.000000</td>\n",
       "      <td>0.167945</td>\n",
       "      <td>0.057474</td>\n",
       "      <td>0.069959</td>\n",
       "      <td>0.005535</td>\n",
       "    </tr>\n",
       "    <tr>\n",
       "      <th>APPLICATION.SCORE</th>\n",
       "      <td>0.167945</td>\n",
       "      <td>1.000000</td>\n",
       "      <td>0.110576</td>\n",
       "      <td>0.089620</td>\n",
       "      <td>-0.018497</td>\n",
       "    </tr>\n",
       "    <tr>\n",
       "      <th>APPROVED.AMOUNT</th>\n",
       "      <td>0.057474</td>\n",
       "      <td>0.110576</td>\n",
       "      <td>1.000000</td>\n",
       "      <td>0.500006</td>\n",
       "      <td>0.003750</td>\n",
       "    </tr>\n",
       "    <tr>\n",
       "      <th>APPLIED.AMOUNT</th>\n",
       "      <td>0.069959</td>\n",
       "      <td>0.089620</td>\n",
       "      <td>0.500006</td>\n",
       "      <td>1.000000</td>\n",
       "      <td>0.027844</td>\n",
       "    </tr>\n",
       "    <tr>\n",
       "      <th>LOAN.TENOR</th>\n",
       "      <td>0.005535</td>\n",
       "      <td>-0.018497</td>\n",
       "      <td>0.003750</td>\n",
       "      <td>0.027844</td>\n",
       "      <td>1.000000</td>\n",
       "    </tr>\n",
       "  </tbody>\n",
       "</table>\n",
       "</div>"
      ],
      "text/plain": [
       "                        AGE  APPLICATION.SCORE  APPROVED.AMOUNT  \\\n",
       "AGE                1.000000           0.167945         0.057474   \n",
       "APPLICATION.SCORE  0.167945           1.000000         0.110576   \n",
       "APPROVED.AMOUNT    0.057474           0.110576         1.000000   \n",
       "APPLIED.AMOUNT     0.069959           0.089620         0.500006   \n",
       "LOAN.TENOR         0.005535          -0.018497         0.003750   \n",
       "\n",
       "                   APPLIED.AMOUNT  LOAN.TENOR  \n",
       "AGE                      0.069959    0.005535  \n",
       "APPLICATION.SCORE        0.089620   -0.018497  \n",
       "APPROVED.AMOUNT          0.500006    0.003750  \n",
       "APPLIED.AMOUNT           1.000000    0.027844  \n",
       "LOAN.TENOR               0.027844    1.000000  "
      ]
     },
     "execution_count": 38,
     "metadata": {},
     "output_type": "execute_result"
    }
   ],
   "source": [
    "df1.corr(method = \"pearson\")"
   ]
  },
  {
   "cell_type": "code",
   "execution_count": 39,
   "metadata": {},
   "outputs": [],
   "source": [
    "# 7. SKEW OF UNIVARIATE DISTRIBUTIONS"
   ]
  },
  {
   "cell_type": "code",
   "execution_count": 40,
   "metadata": {},
   "outputs": [
    {
     "data": {
      "text/plain": [
       "AGE                   0.650237\n",
       "APPLICATION.SCORE     0.575013\n",
       "APPROVED.AMOUNT       3.851160\n",
       "APPLIED.AMOUNT        9.620533\n",
       "LOAN.TENOR           12.925869\n",
       "dtype: float64"
      ]
     },
     "execution_count": 40,
     "metadata": {},
     "output_type": "execute_result"
    }
   ],
   "source": [
    "df1.skew()"
   ]
  },
  {
   "cell_type": "code",
   "execution_count": 41,
   "metadata": {},
   "outputs": [],
   "source": [
    "# 8. DATA INFERENCES"
   ]
  },
  {
   "cell_type": "code",
   "execution_count": 42,
   "metadata": {},
   "outputs": [
    {
     "data": {
      "text/html": [
       "<div>\n",
       "<style scoped>\n",
       "    .dataframe tbody tr th:only-of-type {\n",
       "        vertical-align: middle;\n",
       "    }\n",
       "\n",
       "    .dataframe tbody tr th {\n",
       "        vertical-align: top;\n",
       "    }\n",
       "\n",
       "    .dataframe thead th {\n",
       "        text-align: right;\n",
       "    }\n",
       "</style>\n",
       "<table border=\"1\" class=\"dataframe\">\n",
       "  <thead>\n",
       "    <tr style=\"text-align: right;\">\n",
       "      <th></th>\n",
       "      <th>AGE</th>\n",
       "      <th>APPLICATION.SCORE</th>\n",
       "      <th>APPROVED.AMOUNT</th>\n",
       "      <th>APPLIED.AMOUNT</th>\n",
       "      <th>LOAN.TENOR</th>\n",
       "    </tr>\n",
       "    <tr>\n",
       "      <th>MARITAL.STATUS</th>\n",
       "      <th></th>\n",
       "      <th></th>\n",
       "      <th></th>\n",
       "      <th></th>\n",
       "      <th></th>\n",
       "    </tr>\n",
       "  </thead>\n",
       "  <tbody>\n",
       "    <tr>\n",
       "      <th>Married</th>\n",
       "      <td>37.474668</td>\n",
       "      <td>47.460112</td>\n",
       "      <td>32387.631613</td>\n",
       "      <td>34108.442225</td>\n",
       "      <td>13.075276</td>\n",
       "    </tr>\n",
       "    <tr>\n",
       "      <th>Single</th>\n",
       "      <td>28.272304</td>\n",
       "      <td>41.690413</td>\n",
       "      <td>32045.591877</td>\n",
       "      <td>34641.472037</td>\n",
       "      <td>13.356192</td>\n",
       "    </tr>\n",
       "  </tbody>\n",
       "</table>\n",
       "</div>"
      ],
      "text/plain": [
       "                      AGE  APPLICATION.SCORE  APPROVED.AMOUNT  APPLIED.AMOUNT  \\\n",
       "MARITAL.STATUS                                                                  \n",
       "Married         37.474668          47.460112     32387.631613    34108.442225   \n",
       "Single          28.272304          41.690413     32045.591877    34641.472037   \n",
       "\n",
       "                LOAN.TENOR  \n",
       "MARITAL.STATUS              \n",
       "Married          13.075276  \n",
       "Single           13.356192  "
      ]
     },
     "execution_count": 42,
     "metadata": {},
     "output_type": "execute_result"
    }
   ],
   "source": [
    "df1.groupby('MARITAL.STATUS').mean()"
   ]
  },
  {
   "cell_type": "code",
   "execution_count": 43,
   "metadata": {},
   "outputs": [
    {
     "data": {
      "text/html": [
       "<div>\n",
       "<style scoped>\n",
       "    .dataframe tbody tr th:only-of-type {\n",
       "        vertical-align: middle;\n",
       "    }\n",
       "\n",
       "    .dataframe tbody tr th {\n",
       "        vertical-align: top;\n",
       "    }\n",
       "\n",
       "    .dataframe thead th {\n",
       "        text-align: right;\n",
       "    }\n",
       "</style>\n",
       "<table border=\"1\" class=\"dataframe\">\n",
       "  <thead>\n",
       "    <tr style=\"text-align: right;\">\n",
       "      <th></th>\n",
       "      <th>AGE</th>\n",
       "      <th>APPLICATION.SCORE</th>\n",
       "      <th>APPROVED.AMOUNT</th>\n",
       "      <th>APPLIED.AMOUNT</th>\n",
       "      <th>LOAN.TENOR</th>\n",
       "    </tr>\n",
       "    <tr>\n",
       "      <th>GENDER</th>\n",
       "      <th></th>\n",
       "      <th></th>\n",
       "      <th></th>\n",
       "      <th></th>\n",
       "      <th></th>\n",
       "    </tr>\n",
       "  </thead>\n",
       "  <tbody>\n",
       "    <tr>\n",
       "      <th>Female</th>\n",
       "      <td>36.431496</td>\n",
       "      <td>39.007811</td>\n",
       "      <td>32831.613386</td>\n",
       "      <td>34602.300787</td>\n",
       "      <td>12.933858</td>\n",
       "    </tr>\n",
       "    <tr>\n",
       "      <th>Male</th>\n",
       "      <td>35.548775</td>\n",
       "      <td>47.778857</td>\n",
       "      <td>32221.565881</td>\n",
       "      <td>34135.165973</td>\n",
       "      <td>13.167977</td>\n",
       "    </tr>\n",
       "  </tbody>\n",
       "</table>\n",
       "</div>"
      ],
      "text/plain": [
       "              AGE  APPLICATION.SCORE  APPROVED.AMOUNT  APPLIED.AMOUNT  \\\n",
       "GENDER                                                                  \n",
       "Female  36.431496          39.007811     32831.613386    34602.300787   \n",
       "Male    35.548775          47.778857     32221.565881    34135.165973   \n",
       "\n",
       "        LOAN.TENOR  \n",
       "GENDER              \n",
       "Female   12.933858  \n",
       "Male     13.167977  "
      ]
     },
     "execution_count": 43,
     "metadata": {},
     "output_type": "execute_result"
    }
   ],
   "source": [
    "df1.groupby('GENDER').mean()"
   ]
  },
  {
   "cell_type": "code",
   "execution_count": 44,
   "metadata": {},
   "outputs": [
    {
     "data": {
      "text/html": [
       "<div>\n",
       "<style scoped>\n",
       "    .dataframe tbody tr th:only-of-type {\n",
       "        vertical-align: middle;\n",
       "    }\n",
       "\n",
       "    .dataframe tbody tr th {\n",
       "        vertical-align: top;\n",
       "    }\n",
       "\n",
       "    .dataframe thead th {\n",
       "        text-align: right;\n",
       "    }\n",
       "</style>\n",
       "<table border=\"1\" class=\"dataframe\">\n",
       "  <thead>\n",
       "    <tr style=\"text-align: right;\">\n",
       "      <th></th>\n",
       "      <th>AGE</th>\n",
       "      <th>APPLICATION.SCORE</th>\n",
       "      <th>APPROVED.AMOUNT</th>\n",
       "      <th>APPLIED.AMOUNT</th>\n",
       "      <th>LOAN.TENOR</th>\n",
       "    </tr>\n",
       "    <tr>\n",
       "      <th>EDUCATION</th>\n",
       "      <th></th>\n",
       "      <th></th>\n",
       "      <th></th>\n",
       "      <th></th>\n",
       "      <th></th>\n",
       "    </tr>\n",
       "  </thead>\n",
       "  <tbody>\n",
       "    <tr>\n",
       "      <th>DOCTORATE</th>\n",
       "      <td>38.583333</td>\n",
       "      <td>73.500000</td>\n",
       "      <td>33395.583333</td>\n",
       "      <td>33541.666667</td>\n",
       "      <td>11.666667</td>\n",
       "    </tr>\n",
       "    <tr>\n",
       "      <th>GRADUATE</th>\n",
       "      <td>35.258398</td>\n",
       "      <td>48.612873</td>\n",
       "      <td>32653.842612</td>\n",
       "      <td>34957.091144</td>\n",
       "      <td>13.420014</td>\n",
       "    </tr>\n",
       "    <tr>\n",
       "      <th>OTHERS</th>\n",
       "      <td>36.825591</td>\n",
       "      <td>42.520782</td>\n",
       "      <td>32359.407498</td>\n",
       "      <td>34532.198859</td>\n",
       "      <td>12.829666</td>\n",
       "    </tr>\n",
       "    <tr>\n",
       "      <th>POST-GRADUATE</th>\n",
       "      <td>34.565632</td>\n",
       "      <td>55.966587</td>\n",
       "      <td>35165.498807</td>\n",
       "      <td>39982.439141</td>\n",
       "      <td>12.439141</td>\n",
       "    </tr>\n",
       "    <tr>\n",
       "      <th>PROFESSIONAL</th>\n",
       "      <td>34.437500</td>\n",
       "      <td>50.125000</td>\n",
       "      <td>32604.656250</td>\n",
       "      <td>37182.812500</td>\n",
       "      <td>12.062500</td>\n",
       "    </tr>\n",
       "    <tr>\n",
       "      <th>UNDER GRADUATE</th>\n",
       "      <td>36.211921</td>\n",
       "      <td>41.127439</td>\n",
       "      <td>30844.949779</td>\n",
       "      <td>30860.748896</td>\n",
       "      <td>12.838852</td>\n",
       "    </tr>\n",
       "  </tbody>\n",
       "</table>\n",
       "</div>"
      ],
      "text/plain": [
       "                      AGE  APPLICATION.SCORE  APPROVED.AMOUNT  APPLIED.AMOUNT  \\\n",
       "EDUCATION                                                                       \n",
       "DOCTORATE       38.583333          73.500000     33395.583333    33541.666667   \n",
       "GRADUATE        35.258398          48.612873     32653.842612    34957.091144   \n",
       "OTHERS          36.825591          42.520782     32359.407498    34532.198859   \n",
       "POST-GRADUATE   34.565632          55.966587     35165.498807    39982.439141   \n",
       "PROFESSIONAL    34.437500          50.125000     32604.656250    37182.812500   \n",
       "UNDER GRADUATE  36.211921          41.127439     30844.949779    30860.748896   \n",
       "\n",
       "                LOAN.TENOR  \n",
       "EDUCATION                   \n",
       "DOCTORATE        11.666667  \n",
       "GRADUATE         13.420014  \n",
       "OTHERS           12.829666  \n",
       "POST-GRADUATE    12.439141  \n",
       "PROFESSIONAL     12.062500  \n",
       "UNDER GRADUATE   12.838852  "
      ]
     },
     "execution_count": 44,
     "metadata": {},
     "output_type": "execute_result"
    }
   ],
   "source": [
    "df1.groupby('EDUCATION').mean()"
   ]
  },
  {
   "cell_type": "code",
   "execution_count": 45,
   "metadata": {},
   "outputs": [
    {
     "data": {
      "text/html": [
       "<div>\n",
       "<style scoped>\n",
       "    .dataframe tbody tr th:only-of-type {\n",
       "        vertical-align: middle;\n",
       "    }\n",
       "\n",
       "    .dataframe tbody tr th {\n",
       "        vertical-align: top;\n",
       "    }\n",
       "\n",
       "    .dataframe thead th {\n",
       "        text-align: right;\n",
       "    }\n",
       "</style>\n",
       "<table border=\"1\" class=\"dataframe\">\n",
       "  <thead>\n",
       "    <tr style=\"text-align: right;\">\n",
       "      <th></th>\n",
       "      <th>AGE</th>\n",
       "      <th>APPLICATION.SCORE</th>\n",
       "      <th>APPROVED.AMOUNT</th>\n",
       "      <th>APPLIED.AMOUNT</th>\n",
       "      <th>LOAN.TENOR</th>\n",
       "    </tr>\n",
       "    <tr>\n",
       "      <th>RESIDENCE.TYPE</th>\n",
       "      <th></th>\n",
       "      <th></th>\n",
       "      <th></th>\n",
       "      <th></th>\n",
       "      <th></th>\n",
       "    </tr>\n",
       "  </thead>\n",
       "  <tbody>\n",
       "    <tr>\n",
       "      <th>COMPANY PROVIDED-FLAT</th>\n",
       "      <td>37.424242</td>\n",
       "      <td>55.393939</td>\n",
       "      <td>35088.333333</td>\n",
       "      <td>32745.454545</td>\n",
       "      <td>15.727273</td>\n",
       "    </tr>\n",
       "    <tr>\n",
       "      <th>COMPANY PROVIDED-HOUSE</th>\n",
       "      <td>38.836735</td>\n",
       "      <td>51.040816</td>\n",
       "      <td>30148.102041</td>\n",
       "      <td>31878.979592</td>\n",
       "      <td>12.122449</td>\n",
       "    </tr>\n",
       "    <tr>\n",
       "      <th>OWNED-BUNGLOW</th>\n",
       "      <td>37.614314</td>\n",
       "      <td>49.539761</td>\n",
       "      <td>32604.331014</td>\n",
       "      <td>34838.189861</td>\n",
       "      <td>12.599404</td>\n",
       "    </tr>\n",
       "    <tr>\n",
       "      <th>OWNED-CHAWL</th>\n",
       "      <td>37.147887</td>\n",
       "      <td>44.563380</td>\n",
       "      <td>32141.373239</td>\n",
       "      <td>33585.161972</td>\n",
       "      <td>13.802817</td>\n",
       "    </tr>\n",
       "    <tr>\n",
       "      <th>OWNED-FLAT</th>\n",
       "      <td>37.905546</td>\n",
       "      <td>50.550191</td>\n",
       "      <td>33177.713172</td>\n",
       "      <td>36079.185442</td>\n",
       "      <td>12.448873</td>\n",
       "    </tr>\n",
       "    <tr>\n",
       "      <th>OWNED-PENTHOUSE</th>\n",
       "      <td>36.748879</td>\n",
       "      <td>45.766816</td>\n",
       "      <td>32454.817638</td>\n",
       "      <td>33805.103139</td>\n",
       "      <td>12.433483</td>\n",
       "    </tr>\n",
       "    <tr>\n",
       "      <th>OWNED-ROWHOUSE</th>\n",
       "      <td>37.060150</td>\n",
       "      <td>51.220865</td>\n",
       "      <td>32790.221805</td>\n",
       "      <td>35461.720865</td>\n",
       "      <td>15.100564</td>\n",
       "    </tr>\n",
       "    <tr>\n",
       "      <th>PARENT OWNED-FLAT</th>\n",
       "      <td>31.686747</td>\n",
       "      <td>43.831325</td>\n",
       "      <td>30820.963855</td>\n",
       "      <td>29949.421687</td>\n",
       "      <td>12.036145</td>\n",
       "    </tr>\n",
       "    <tr>\n",
       "      <th>PARENT OWNED-HOUSE</th>\n",
       "      <td>32.078401</td>\n",
       "      <td>41.915450</td>\n",
       "      <td>30376.003075</td>\n",
       "      <td>30094.348962</td>\n",
       "      <td>13.222137</td>\n",
       "    </tr>\n",
       "    <tr>\n",
       "      <th>RENTED-BACHELOR ACCOMODATION</th>\n",
       "      <td>40.000000</td>\n",
       "      <td>120.000000</td>\n",
       "      <td>30000.000000</td>\n",
       "      <td>30000.000000</td>\n",
       "      <td>10.000000</td>\n",
       "    </tr>\n",
       "    <tr>\n",
       "      <th>RENTED-BUNGLOW</th>\n",
       "      <td>34.440972</td>\n",
       "      <td>40.388889</td>\n",
       "      <td>33449.736111</td>\n",
       "      <td>39235.930556</td>\n",
       "      <td>13.211806</td>\n",
       "    </tr>\n",
       "    <tr>\n",
       "      <th>RENTED-CHAWL</th>\n",
       "      <td>35.523810</td>\n",
       "      <td>39.578231</td>\n",
       "      <td>31609.414966</td>\n",
       "      <td>35801.517007</td>\n",
       "      <td>13.353741</td>\n",
       "    </tr>\n",
       "    <tr>\n",
       "      <th>RENTED-FLAT</th>\n",
       "      <td>34.777922</td>\n",
       "      <td>44.751948</td>\n",
       "      <td>32954.888312</td>\n",
       "      <td>35064.584416</td>\n",
       "      <td>11.812987</td>\n",
       "    </tr>\n",
       "    <tr>\n",
       "      <th>RENTED-PENTHOUSE</th>\n",
       "      <td>34.553746</td>\n",
       "      <td>42.104235</td>\n",
       "      <td>32878.482085</td>\n",
       "      <td>37075.794788</td>\n",
       "      <td>13.068404</td>\n",
       "    </tr>\n",
       "    <tr>\n",
       "      <th>RENTED-ROWHOUSE</th>\n",
       "      <td>34.368159</td>\n",
       "      <td>43.412935</td>\n",
       "      <td>32295.315091</td>\n",
       "      <td>32544.533997</td>\n",
       "      <td>13.809287</td>\n",
       "    </tr>\n",
       "  </tbody>\n",
       "</table>\n",
       "</div>"
      ],
      "text/plain": [
       "                                    AGE  APPLICATION.SCORE  APPROVED.AMOUNT  \\\n",
       "RESIDENCE.TYPE                                                                \n",
       "COMPANY PROVIDED-FLAT         37.424242          55.393939     35088.333333   \n",
       "COMPANY PROVIDED-HOUSE        38.836735          51.040816     30148.102041   \n",
       "OWNED-BUNGLOW                 37.614314          49.539761     32604.331014   \n",
       "OWNED-CHAWL                   37.147887          44.563380     32141.373239   \n",
       "OWNED-FLAT                    37.905546          50.550191     33177.713172   \n",
       "OWNED-PENTHOUSE               36.748879          45.766816     32454.817638   \n",
       "OWNED-ROWHOUSE                37.060150          51.220865     32790.221805   \n",
       "PARENT OWNED-FLAT             31.686747          43.831325     30820.963855   \n",
       "PARENT OWNED-HOUSE            32.078401          41.915450     30376.003075   \n",
       "RENTED-BACHELOR ACCOMODATION  40.000000         120.000000     30000.000000   \n",
       "RENTED-BUNGLOW                34.440972          40.388889     33449.736111   \n",
       "RENTED-CHAWL                  35.523810          39.578231     31609.414966   \n",
       "RENTED-FLAT                   34.777922          44.751948     32954.888312   \n",
       "RENTED-PENTHOUSE              34.553746          42.104235     32878.482085   \n",
       "RENTED-ROWHOUSE               34.368159          43.412935     32295.315091   \n",
       "\n",
       "                              APPLIED.AMOUNT  LOAN.TENOR  \n",
       "RESIDENCE.TYPE                                            \n",
       "COMPANY PROVIDED-FLAT           32745.454545   15.727273  \n",
       "COMPANY PROVIDED-HOUSE          31878.979592   12.122449  \n",
       "OWNED-BUNGLOW                   34838.189861   12.599404  \n",
       "OWNED-CHAWL                     33585.161972   13.802817  \n",
       "OWNED-FLAT                      36079.185442   12.448873  \n",
       "OWNED-PENTHOUSE                 33805.103139   12.433483  \n",
       "OWNED-ROWHOUSE                  35461.720865   15.100564  \n",
       "PARENT OWNED-FLAT               29949.421687   12.036145  \n",
       "PARENT OWNED-HOUSE              30094.348962   13.222137  \n",
       "RENTED-BACHELOR ACCOMODATION    30000.000000   10.000000  \n",
       "RENTED-BUNGLOW                  39235.930556   13.211806  \n",
       "RENTED-CHAWL                    35801.517007   13.353741  \n",
       "RENTED-FLAT                     35064.584416   11.812987  \n",
       "RENTED-PENTHOUSE                37075.794788   13.068404  \n",
       "RENTED-ROWHOUSE                 32544.533997   13.809287  "
      ]
     },
     "execution_count": 45,
     "metadata": {},
     "output_type": "execute_result"
    }
   ],
   "source": [
    "df1.groupby('RESIDENCE.TYPE').mean()"
   ]
  },
  {
   "cell_type": "code",
   "execution_count": 46,
   "metadata": {},
   "outputs": [
    {
     "data": {
      "text/html": [
       "<div>\n",
       "<style scoped>\n",
       "    .dataframe tbody tr th:only-of-type {\n",
       "        vertical-align: middle;\n",
       "    }\n",
       "\n",
       "    .dataframe tbody tr th {\n",
       "        vertical-align: top;\n",
       "    }\n",
       "\n",
       "    .dataframe thead th {\n",
       "        text-align: right;\n",
       "    }\n",
       "</style>\n",
       "<table border=\"1\" class=\"dataframe\">\n",
       "  <thead>\n",
       "    <tr style=\"text-align: right;\">\n",
       "      <th></th>\n",
       "      <th>AGE</th>\n",
       "      <th>APPLICATION.SCORE</th>\n",
       "      <th>APPROVED.AMOUNT</th>\n",
       "      <th>APPLIED.AMOUNT</th>\n",
       "      <th>LOAN.TENOR</th>\n",
       "    </tr>\n",
       "    <tr>\n",
       "      <th>EMPLOY.CONSTITUTION</th>\n",
       "      <th></th>\n",
       "      <th></th>\n",
       "      <th></th>\n",
       "      <th></th>\n",
       "      <th></th>\n",
       "    </tr>\n",
       "  </thead>\n",
       "  <tbody>\n",
       "    <tr>\n",
       "      <th>PARTNERSHIP</th>\n",
       "      <td>30.882353</td>\n",
       "      <td>43.176471</td>\n",
       "      <td>32461.882353</td>\n",
       "      <td>39623.529412</td>\n",
       "      <td>34.588235</td>\n",
       "    </tr>\n",
       "    <tr>\n",
       "      <th>PRIVATE LIMITED COMPANY</th>\n",
       "      <td>31.666667</td>\n",
       "      <td>52.000000</td>\n",
       "      <td>30880.666667</td>\n",
       "      <td>25233.333333</td>\n",
       "      <td>11.047619</td>\n",
       "    </tr>\n",
       "    <tr>\n",
       "      <th>SALARIED</th>\n",
       "      <td>34.661778</td>\n",
       "      <td>47.590789</td>\n",
       "      <td>32069.592842</td>\n",
       "      <td>33610.065122</td>\n",
       "      <td>13.054561</td>\n",
       "    </tr>\n",
       "    <tr>\n",
       "      <th>SELF-EMPLOYED</th>\n",
       "      <td>36.556098</td>\n",
       "      <td>45.350969</td>\n",
       "      <td>32518.313357</td>\n",
       "      <td>34707.967944</td>\n",
       "      <td>13.118931</td>\n",
       "    </tr>\n",
       "    <tr>\n",
       "      <th>TRUST</th>\n",
       "      <td>31.142857</td>\n",
       "      <td>39.714286</td>\n",
       "      <td>37851.857143</td>\n",
       "      <td>35714.285714</td>\n",
       "      <td>10.428571</td>\n",
       "    </tr>\n",
       "  </tbody>\n",
       "</table>\n",
       "</div>"
      ],
      "text/plain": [
       "                               AGE  APPLICATION.SCORE  APPROVED.AMOUNT  \\\n",
       "EMPLOY.CONSTITUTION                                                      \n",
       "PARTNERSHIP              30.882353          43.176471     32461.882353   \n",
       "PRIVATE LIMITED COMPANY  31.666667          52.000000     30880.666667   \n",
       "SALARIED                 34.661778          47.590789     32069.592842   \n",
       "SELF-EMPLOYED            36.556098          45.350969     32518.313357   \n",
       "TRUST                    31.142857          39.714286     37851.857143   \n",
       "\n",
       "                         APPLIED.AMOUNT  LOAN.TENOR  \n",
       "EMPLOY.CONSTITUTION                                  \n",
       "PARTNERSHIP                39623.529412   34.588235  \n",
       "PRIVATE LIMITED COMPANY    25233.333333   11.047619  \n",
       "SALARIED                   33610.065122   13.054561  \n",
       "SELF-EMPLOYED              34707.967944   13.118931  \n",
       "TRUST                      35714.285714   10.428571  "
      ]
     },
     "execution_count": 46,
     "metadata": {},
     "output_type": "execute_result"
    }
   ],
   "source": [
    "df1.groupby('EMPLOY.CONSTITUTION').mean()"
   ]
  },
  {
   "cell_type": "code",
   "execution_count": 47,
   "metadata": {},
   "outputs": [
    {
     "data": {
      "text/html": [
       "<div>\n",
       "<style scoped>\n",
       "    .dataframe tbody tr th:only-of-type {\n",
       "        vertical-align: middle;\n",
       "    }\n",
       "\n",
       "    .dataframe tbody tr th {\n",
       "        vertical-align: top;\n",
       "    }\n",
       "\n",
       "    .dataframe thead th {\n",
       "        text-align: right;\n",
       "    }\n",
       "</style>\n",
       "<table border=\"1\" class=\"dataframe\">\n",
       "  <thead>\n",
       "    <tr style=\"text-align: right;\">\n",
       "      <th></th>\n",
       "      <th>AGE</th>\n",
       "      <th>APPLICATION.SCORE</th>\n",
       "      <th>APPROVED.AMOUNT</th>\n",
       "      <th>APPLIED.AMOUNT</th>\n",
       "      <th>LOAN.TENOR</th>\n",
       "    </tr>\n",
       "    <tr>\n",
       "      <th>OWN.HOUSE.TYPE</th>\n",
       "      <th></th>\n",
       "      <th></th>\n",
       "      <th></th>\n",
       "      <th></th>\n",
       "      <th></th>\n",
       "    </tr>\n",
       "  </thead>\n",
       "  <tbody>\n",
       "    <tr>\n",
       "      <th>Children Owned</th>\n",
       "      <td>49.909091</td>\n",
       "      <td>33.727273</td>\n",
       "      <td>33847.818182</td>\n",
       "      <td>33217.272727</td>\n",
       "      <td>12.727273</td>\n",
       "    </tr>\n",
       "    <tr>\n",
       "      <th>Parent Owned</th>\n",
       "      <td>32.026997</td>\n",
       "      <td>41.839118</td>\n",
       "      <td>31236.782369</td>\n",
       "      <td>32629.347107</td>\n",
       "      <td>13.373003</td>\n",
       "    </tr>\n",
       "    <tr>\n",
       "      <th>Self Owned</th>\n",
       "      <td>36.632041</td>\n",
       "      <td>47.936992</td>\n",
       "      <td>32637.269521</td>\n",
       "      <td>34700.221091</td>\n",
       "      <td>12.981576</td>\n",
       "    </tr>\n",
       "    <tr>\n",
       "      <th>Spouse Owned</th>\n",
       "      <td>40.598291</td>\n",
       "      <td>43.055556</td>\n",
       "      <td>32970.106838</td>\n",
       "      <td>34631.619658</td>\n",
       "      <td>14.867521</td>\n",
       "    </tr>\n",
       "  </tbody>\n",
       "</table>\n",
       "</div>"
      ],
      "text/plain": [
       "                      AGE  APPLICATION.SCORE  APPROVED.AMOUNT  APPLIED.AMOUNT  \\\n",
       "OWN.HOUSE.TYPE                                                                  \n",
       "Children Owned  49.909091          33.727273     33847.818182    33217.272727   \n",
       "Parent Owned    32.026997          41.839118     31236.782369    32629.347107   \n",
       "Self Owned      36.632041          47.936992     32637.269521    34700.221091   \n",
       "Spouse Owned    40.598291          43.055556     32970.106838    34631.619658   \n",
       "\n",
       "                LOAN.TENOR  \n",
       "OWN.HOUSE.TYPE              \n",
       "Children Owned   12.727273  \n",
       "Parent Owned     13.373003  \n",
       "Self Owned       12.981576  \n",
       "Spouse Owned     14.867521  "
      ]
     },
     "execution_count": 47,
     "metadata": {},
     "output_type": "execute_result"
    }
   ],
   "source": [
    "df1.groupby('OWN.HOUSE.TYPE').mean()"
   ]
  },
  {
   "cell_type": "code",
   "execution_count": 48,
   "metadata": {},
   "outputs": [
    {
     "data": {
      "text/html": [
       "<div>\n",
       "<style scoped>\n",
       "    .dataframe tbody tr th:only-of-type {\n",
       "        vertical-align: middle;\n",
       "    }\n",
       "\n",
       "    .dataframe tbody tr th {\n",
       "        vertical-align: top;\n",
       "    }\n",
       "\n",
       "    .dataframe thead th {\n",
       "        text-align: right;\n",
       "    }\n",
       "</style>\n",
       "<table border=\"1\" class=\"dataframe\">\n",
       "  <thead>\n",
       "    <tr style=\"text-align: right;\">\n",
       "      <th></th>\n",
       "      <th>AGE</th>\n",
       "      <th>APPLICATION.SCORE</th>\n",
       "      <th>APPROVED.AMOUNT</th>\n",
       "      <th>APPLIED.AMOUNT</th>\n",
       "      <th>LOAN.TENOR</th>\n",
       "    </tr>\n",
       "    <tr>\n",
       "      <th>APPLICATION.STATUS</th>\n",
       "      <th></th>\n",
       "      <th></th>\n",
       "      <th></th>\n",
       "      <th></th>\n",
       "      <th></th>\n",
       "    </tr>\n",
       "  </thead>\n",
       "  <tbody>\n",
       "    <tr>\n",
       "      <th>Approved</th>\n",
       "      <td>35.743971</td>\n",
       "      <td>51.408835</td>\n",
       "      <td>32323.229660</td>\n",
       "      <td>33653.387199</td>\n",
       "      <td>13.228984</td>\n",
       "    </tr>\n",
       "    <tr>\n",
       "      <th>Declined</th>\n",
       "      <td>35.625527</td>\n",
       "      <td>39.577339</td>\n",
       "      <td>32319.000602</td>\n",
       "      <td>34957.235099</td>\n",
       "      <td>12.996990</td>\n",
       "    </tr>\n",
       "  </tbody>\n",
       "</table>\n",
       "</div>"
      ],
      "text/plain": [
       "                          AGE  APPLICATION.SCORE  APPROVED.AMOUNT  \\\n",
       "APPLICATION.STATUS                                                  \n",
       "Approved            35.743971          51.408835     32323.229660   \n",
       "Declined            35.625527          39.577339     32319.000602   \n",
       "\n",
       "                    APPLIED.AMOUNT  LOAN.TENOR  \n",
       "APPLICATION.STATUS                              \n",
       "Approved              33653.387199   13.228984  \n",
       "Declined              34957.235099   12.996990  "
      ]
     },
     "execution_count": 48,
     "metadata": {},
     "output_type": "execute_result"
    }
   ],
   "source": [
    "df1.groupby('APPLICATION.STATUS').mean()"
   ]
  },
  {
   "cell_type": "markdown",
   "metadata": {},
   "source": [
    "# DATA VISUALIZATION"
   ]
  },
  {
   "cell_type": "code",
   "execution_count": 49,
   "metadata": {},
   "outputs": [],
   "source": [
    "# 1. UNIVARIATE PLOTS"
   ]
  },
  {
   "cell_type": "code",
   "execution_count": 50,
   "metadata": {},
   "outputs": [],
   "source": [
    "# 1.1. HISTOGRAMS"
   ]
  },
  {
   "cell_type": "code",
   "execution_count": 51,
   "metadata": {},
   "outputs": [
    {
     "data": {
      "text/plain": [
       "array([[<matplotlib.axes._subplots.AxesSubplot object at 0x7fdbd6d1a2e8>,\n",
       "        <matplotlib.axes._subplots.AxesSubplot object at 0x7fdbd6e2f048>,\n",
       "        <matplotlib.axes._subplots.AxesSubplot object at 0x7fdbd6fe3588>],\n",
       "       [<matplotlib.axes._subplots.AxesSubplot object at 0x7fdbd6e0c5f8>,\n",
       "        <matplotlib.axes._subplots.AxesSubplot object at 0x7fdbd6eb8518>,\n",
       "        <matplotlib.axes._subplots.AxesSubplot object at 0x7fdbd6eb8550>],\n",
       "       [<matplotlib.axes._subplots.AxesSubplot object at 0x7fdbd70289e8>,\n",
       "        <matplotlib.axes._subplots.AxesSubplot object at 0x7fdbd6fd6978>,\n",
       "        <matplotlib.axes._subplots.AxesSubplot object at 0x7fdbd6dceeb8>]], dtype=object)"
      ]
     },
     "execution_count": 51,
     "metadata": {},
     "output_type": "execute_result"
    },
    {
     "data": {
      "image/png": "[encoded data removed]",
      "text/plain": [
       "<matplotlib.figure.Figure at 0x7fdbd6efd8d0>"
      ]
     },
     "metadata": {},
     "output_type": "display_data"
    }
   ],
   "source": [
    "df1[['AGE','APPLICATION.SCORE']].hist(layout = (3,3), sharex = False)"
   ]
  },
  {
   "cell_type": "code",
   "execution_count": 52,
   "metadata": {},
   "outputs": [
    {
     "data": {
      "text/plain": [
       "array([[<matplotlib.axes._subplots.AxesSubplot object at 0x7fdbd709d438>,\n",
       "        <matplotlib.axes._subplots.AxesSubplot object at 0x7fdbd70ba8d0>,\n",
       "        <matplotlib.axes._subplots.AxesSubplot object at 0x7fdbd70a58d0>],\n",
       "       [<matplotlib.axes._subplots.AxesSubplot object at 0x7fdbd7117e10>,\n",
       "        <matplotlib.axes._subplots.AxesSubplot object at 0x7fdbd6c90e10>,\n",
       "        <matplotlib.axes._subplots.AxesSubplot object at 0x7fdbd6c90e48>],\n",
       "       [<matplotlib.axes._subplots.AxesSubplot object at 0x7fdbd6c011d0>,\n",
       "        <matplotlib.axes._subplots.AxesSubplot object at 0x7fdbd6c16a20>,\n",
       "        <matplotlib.axes._subplots.AxesSubplot object at 0x7fdbd6b75160>]], dtype=object)"
      ]
     },
     "execution_count": 52,
     "metadata": {},
     "output_type": "execute_result"
    },
    {
     "data": {
      "image/png": "[encoded data removed]",
      "text/plain": [
       "<matplotlib.figure.Figure at 0x7fdbd7067ac8>"
      ]
     },
     "metadata": {},
     "output_type": "display_data"
    }
   ],
   "source": [
    "df1[['APPROVED.AMOUNT','APPLIED.AMOUNT','LOAN.TENOR']].hist(layout = (3,3), sharex = False)"
   ]
  },
  {
   "cell_type": "code",
   "execution_count": 53,
   "metadata": {},
   "outputs": [],
   "source": [
    "# 1.2. DENSITY PLOTS"
   ]
  },
  {
   "cell_type": "code",
   "execution_count": 54,
   "metadata": {},
   "outputs": [
    {
     "data": {
      "text/plain": [
       "array([[<matplotlib.axes._subplots.AxesSubplot object at 0x7fdbd6b5a0f0>,\n",
       "        <matplotlib.axes._subplots.AxesSubplot object at 0x7fdbd6a8aef0>,\n",
       "        <matplotlib.axes._subplots.AxesSubplot object at 0x7fdbd6a45ef0>],\n",
       "       [<matplotlib.axes._subplots.AxesSubplot object at 0x7fdbd69faef0>,\n",
       "        <matplotlib.axes._subplots.AxesSubplot object at 0x7fdbd69c3470>,\n",
       "        <matplotlib.axes._subplots.AxesSubplot object at 0x7fdbd69c34a8>],\n",
       "       [<matplotlib.axes._subplots.AxesSubplot object at 0x7fdbcf88bb38>,\n",
       "        <matplotlib.axes._subplots.AxesSubplot object at 0x7fdbcf847a58>,\n",
       "        <matplotlib.axes._subplots.AxesSubplot object at 0x7fdbcf800a58>]], dtype=object)"
      ]
     },
     "execution_count": 54,
     "metadata": {},
     "output_type": "execute_result"
    },
    {
     "data": {
      "image/png": "[encoded data removed]",
      "text/plain": [
       "<matplotlib.figure.Figure at 0x7fdbd714cac8>"
      ]
     },
     "metadata": {},
     "output_type": "display_data"
    }
   ],
   "source": [
    "df1[['AGE','APPLICATION.SCORE']].plot(kind='density', subplots=True, layout=(3,3), sharex=False)"
   ]
  },
  {
   "cell_type": "code",
   "execution_count": 55,
   "metadata": {},
   "outputs": [
    {
     "data": {
      "text/plain": [
       "array([[<matplotlib.axes._subplots.AxesSubplot object at 0x7fdbcf8103c8>,\n",
       "        <matplotlib.axes._subplots.AxesSubplot object at 0x7fdbcef440b8>,\n",
       "        <matplotlib.axes._subplots.AxesSubplot object at 0x7fdbceefc048>],\n",
       "       [<matplotlib.axes._subplots.AxesSubplot object at 0x7fdbceeb60b8>,\n",
       "        <matplotlib.axes._subplots.AxesSubplot object at 0x7fdbcee6f0b8>,\n",
       "        <matplotlib.axes._subplots.AxesSubplot object at 0x7fdbcee6f0f0>],\n",
       "       [<matplotlib.axes._subplots.AxesSubplot object at 0x7fdbcee50c18>,\n",
       "        <matplotlib.axes._subplots.AxesSubplot object at 0x7fdbced96128>,\n",
       "        <matplotlib.axes._subplots.AxesSubplot object at 0x7fdbcedcf668>]], dtype=object)"
      ]
     },
     "execution_count": 55,
     "metadata": {},
     "output_type": "execute_result"
    },
    {
     "data": {
      "image/png": "[encoded data removed]",
      "text/plain": [
       "<matplotlib.figure.Figure at 0x7fdbd6d3d668>"
      ]
     },
     "metadata": {},
     "output_type": "display_data"
    }
   ],
   "source": [
    "df1[['APPROVED.AMOUNT','APPLIED.AMOUNT','LOAN.TENOR']].plot(kind='density', subplots=True, layout=(3,3), sharex=False)"
   ]
  },
  {
   "cell_type": "code",
   "execution_count": 56,
   "metadata": {},
   "outputs": [],
   "source": [
    "# 1.3 BOX AND WHISKER PLOTS"
   ]
  },
  {
   "cell_type": "code",
   "execution_count": 57,
   "metadata": {},
   "outputs": [
    {
     "data": {
      "text/plain": [
       "AGE                     AxesSubplot(0.125,0.125;0.352273x0.755)\n",
       "APPLICATION.SCORE    AxesSubplot(0.547727,0.125;0.352273x0.755)\n",
       "dtype: object"
      ]
     },
     "execution_count": 57,
     "metadata": {},
     "output_type": "execute_result"
    },
    {
     "data": {
      "image/png": "[encoded data removed]",
      "text/plain": [
       "<matplotlib.figure.Figure at 0x7fdbced245f8>"
      ]
     },
     "metadata": {},
     "output_type": "display_data"
    }
   ],
   "source": [
    "df1[['AGE','APPLICATION.SCORE']].plot(kind='box', subplots=True, sharex=False, sharey=False)"
   ]
  },
  {
   "cell_type": "code",
   "execution_count": 58,
   "metadata": {},
   "outputs": [
    {
     "data": {
      "text/plain": [
       "APPROVED.AMOUNT       AxesSubplot(0.125,0.125;0.227941x0.755)\n",
       "APPLIED.AMOUNT     AxesSubplot(0.398529,0.125;0.227941x0.755)\n",
       "LOAN.TENOR         AxesSubplot(0.672059,0.125;0.227941x0.755)\n",
       "dtype: object"
      ]
     },
     "execution_count": 58,
     "metadata": {},
     "output_type": "execute_result"
    },
    {
     "data": {
      "image/png": "[encoded data removed]",
      "text/plain": [
       "<matplotlib.figure.Figure at 0x7fdbcece9978>"
      ]
     },
     "metadata": {},
     "output_type": "display_data"
    }
   ],
   "source": [
    "df1[['APPROVED.AMOUNT','APPLIED.AMOUNT','LOAN.TENOR']].plot(kind='box', subplots=True, sharex=False, sharey=False)"
   ]
  },
  {
   "cell_type": "code",
   "execution_count": 66,
   "metadata": {},
   "outputs": [],
   "source": [
    "# 2. MULTIVARIATE PLOTS"
   ]
  },
  {
   "cell_type": "code",
   "execution_count": 67,
   "metadata": {},
   "outputs": [],
   "source": [
    "# 2.1 CORRELATION MATRIX PLOT"
   ]
  },
  {
   "cell_type": "code",
   "execution_count": 68,
   "metadata": {},
   "outputs": [
    {
     "data": {
      "image/png": "[encoded data removed]",
      "text/plain": [
       "<matplotlib.figure.Figure at 0x7fdbcea75d68>"
      ]
     },
     "metadata": {},
     "output_type": "display_data"
    }
   ],
   "source": [
    "correlations = df1.corr()\n",
    "plt.matshow(correlations)\n",
    "plt.colorbar()\n",
    "names = ['AGE', 'APPLICATION.SCORE','APPROVED.AMOUNT','APPLIED.AMOUNT','LOAN.TENOR']"
   ]
  },
  {
   "cell_type": "code",
   "execution_count": 69,
   "metadata": {},
   "outputs": [],
   "source": [
    "# 2.2 SCATTER PLOT MATRIX"
   ]
  },
  {
   "cell_type": "code",
   "execution_count": 70,
   "metadata": {},
   "outputs": [],
   "source": [
    "from pandas.tools.plotting import scatter_matrix"
   ]
  },
  {
   "cell_type": "code",
   "execution_count": 71,
   "metadata": {},
   "outputs": [
    {
     "name": "stderr",
     "output_type": "stream",
     "text": [
      "/opt/usr/anaconda3/lib/python3.6/site-packages/ipykernel_launcher.py:1: FutureWarning: 'pandas.tools.plotting.scatter_matrix' is deprecated, import 'pandas.plotting.scatter_matrix' instead.\n",
      "  \"\"\"Entry point for launching an IPython kernel.\n"
     ]
    },
    {
     "data": {
      "text/plain": [
       "array([[<matplotlib.axes._subplots.AxesSubplot object at 0x7fdbce43f630>,\n",
       "        <matplotlib.axes._subplots.AxesSubplot object at 0x7fdbce3631d0>,\n",
       "        <matplotlib.axes._subplots.AxesSubplot object at 0x7fdbce31b1d0>,\n",
       "        <matplotlib.axes._subplots.AxesSubplot object at 0x7fdbce2d6710>,\n",
       "        <matplotlib.axes._subplots.AxesSubplot object at 0x7fdbce30c710>],\n",
       "       [<matplotlib.axes._subplots.AxesSubplot object at 0x7fdbce30c748>,\n",
       "        <matplotlib.axes._subplots.AxesSubplot object at 0x7fdbce270a90>,\n",
       "        <matplotlib.axes._subplots.AxesSubplot object at 0x7fdbce22ca90>,\n",
       "        <matplotlib.axes._subplots.AxesSubplot object at 0x7fdbce1e6a90>,\n",
       "        <matplotlib.axes._subplots.AxesSubplot object at 0x7fdbce283080>],\n",
       "       [<matplotlib.axes._subplots.AxesSubplot object at 0x7fdbce1d1630>,\n",
       "        <matplotlib.axes._subplots.AxesSubplot object at 0x7fdbce18bb00>,\n",
       "        <matplotlib.axes._subplots.AxesSubplot object at 0x7fdbce14e080>,\n",
       "        <matplotlib.axes._subplots.AxesSubplot object at 0x7fdbce0edeb8>,\n",
       "        <matplotlib.axes._subplots.AxesSubplot object at 0x7fdbce0b60f0>],\n",
       "       [<matplotlib.axes._subplots.AxesSubplot object at 0x7fdbce06f470>,\n",
       "        <matplotlib.axes._subplots.AxesSubplot object at 0x7fdbce08b6a0>,\n",
       "        <matplotlib.axes._subplots.AxesSubplot object at 0x7fdbcdfe2400>,\n",
       "        <matplotlib.axes._subplots.AxesSubplot object at 0x7fdbce3fc898>,\n",
       "        <matplotlib.axes._subplots.AxesSubplot object at 0x7fdbce413d68>],\n",
       "       [<matplotlib.axes._subplots.AxesSubplot object at 0x7fdbce3a5358>,\n",
       "        <matplotlib.axes._subplots.AxesSubplot object at 0x7fdbce003940>,\n",
       "        <matplotlib.axes._subplots.AxesSubplot object at 0x7fdbcdfa9e10>,\n",
       "        <matplotlib.axes._subplots.AxesSubplot object at 0x7fdbcdf5a780>,\n",
       "        <matplotlib.axes._subplots.AxesSubplot object at 0x7fdbcdf14c50>]], dtype=object)"
      ]
     },
     "execution_count": 71,
     "metadata": {},
     "output_type": "execute_result"
    },
    {
     "data": {
      "image/png": "[encoded data removed]",
      "text/plain": [
       "<matplotlib.figure.Figure at 0x7fdbd6ee4550>"
      ]
     },
     "metadata": {},
     "output_type": "display_data"
    }
   ],
   "source": [
    "scatter_matrix(df1)"
   ]
  },
  {
   "cell_type": "code",
   "execution_count": 72,
   "metadata": {},
   "outputs": [],
   "source": [
    "# STACKED BAR PLOT"
   ]
  },
  {
   "cell_type": "code",
   "execution_count": 73,
   "metadata": {},
   "outputs": [
    {
     "data": {
      "text/plain": [
       "<matplotlib.axes._subplots.AxesSubplot at 0x7fdbcddbe2b0>"
      ]
     },
     "execution_count": 73,
     "metadata": {},
     "output_type": "execute_result"
    },
    {
     "data": {
      "image/png": "[encoded data removed]",
      "text/plain": [
       "<matplotlib.figure.Figure at 0x7fdbcdf049e8>"
      ]
     },
     "metadata": {},
     "output_type": "display_data"
    }
   ],
   "source": [
    "ct1 = pd.crosstab(df1['MARITAL.STATUS'],df1['APPLICATION.STATUS'])\n",
    "ct1.plot.bar(stacked=True)"
   ]
  },
  {
   "cell_type": "code",
   "execution_count": 74,
   "metadata": {},
   "outputs": [
    {
     "data": {
      "text/plain": [
       "<matplotlib.axes._subplots.AxesSubplot at 0x7fdbcdd7a278>"
      ]
     },
     "execution_count": 74,
     "metadata": {},
     "output_type": "execute_result"
    },
    {
     "data": {
      "image/png": "[encoded data removed]",
      "text/plain": [
       "<matplotlib.figure.Figure at 0x7fdbcde640f0>"
      ]
     },
     "metadata": {},
     "output_type": "display_data"
    }
   ],
   "source": [
    "ct2 = pd.crosstab(df1['GENDER'],df1['APPLICATION.STATUS'])\n",
    "ct2.plot.bar(stacked=True)"
   ]
  },
  {
   "cell_type": "code",
   "execution_count": 75,
   "metadata": {},
   "outputs": [
    {
     "data": {
      "text/plain": [
       "<matplotlib.axes._subplots.AxesSubplot at 0x7fdbcded89b0>"
      ]
     },
     "execution_count": 75,
     "metadata": {},
     "output_type": "execute_result"
    },
    {
     "data": {
      "image/png": "[encoded data removed]",
      "text/plain": [
       "<matplotlib.figure.Figure at 0x7fdbcdd04748>"
      ]
     },
     "metadata": {},
     "output_type": "display_data"
    }
   ],
   "source": [
    "ct2 = pd.crosstab(df1['EDUCATION'],df1['APPLICATION.STATUS'])\n",
    "ct2.plot.bar(stacked=True)"
   ]
  },
  {
   "cell_type": "code",
   "execution_count": 76,
   "metadata": {},
   "outputs": [
    {
     "data": {
      "text/plain": [
       "<matplotlib.axes._subplots.AxesSubplot at 0x7fdbcdcbaba8>"
      ]
     },
     "execution_count": 76,
     "metadata": {},
     "output_type": "execute_result"
    },
    {
     "data": {
      "image/png": "[encoded data removed]",
      "text/plain": [
       "<matplotlib.figure.Figure at 0x7fdbcdcc7e80>"
      ]
     },
     "metadata": {},
     "output_type": "display_data"
    }
   ],
   "source": [
    "ct2 = pd.crosstab(df1['RESIDENCE.TYPE'],df1['APPLICATION.STATUS'])\n",
    "ct2.plot.bar(stacked=True)"
   ]
  },
  {
   "cell_type": "code",
   "execution_count": 77,
   "metadata": {},
   "outputs": [
    {
     "data": {
      "text/plain": [
       "<matplotlib.axes._subplots.AxesSubplot at 0x7fdbcdc03cc0>"
      ]
     },
     "execution_count": 77,
     "metadata": {},
     "output_type": "execute_result"
    },
    {
     "data": {
      "image/png": "[encoded data removed]",
      "text/plain": [
       "<matplotlib.figure.Figure at 0x7fdbcdc4a710>"
      ]
     },
     "metadata": {},
     "output_type": "display_data"
    }
   ],
   "source": [
    "ct2 = pd.crosstab(df1['EMPLOY.CONSTITUTION'],df1['APPLICATION.STATUS'])\n",
    "ct2.plot.bar(stacked=True)"
   ]
  },
  {
   "cell_type": "code",
   "execution_count": 78,
   "metadata": {},
   "outputs": [
    {
     "data": {
      "text/plain": [
       "<matplotlib.axes._subplots.AxesSubplot at 0x7fdbcdb41eb8>"
      ]
     },
     "execution_count": 78,
     "metadata": {},
     "output_type": "execute_result"
    },
    {
     "data": {
      "image/png": "[encoded data removed]",
      "text/plain": [
       "<matplotlib.figure.Figure at 0x7fdbcdb859e8>"
      ]
     },
     "metadata": {},
     "output_type": "display_data"
    }
   ],
   "source": [
    "ct2 = pd.crosstab(df1['OWN.HOUSE.TYPE'],df1['APPLICATION.STATUS'])\n",
    "ct2.plot.bar(stacked=True)"
   ]
  },
  {
   "cell_type": "code",
   "execution_count": 79,
   "metadata": {},
   "outputs": [],
   "source": [
    "# RENAME COLUMNS"
   ]
  },
  {
   "cell_type": "code",
   "execution_count": 80,
   "metadata": {},
   "outputs": [],
   "source": [
    "df2 = df1.rename(columns = {'APPLICATION.STATUS':'APPLICATION','MARITAL.STATUS':'MA','GENDER':'GE','EDUCATION':'ED','RESIDENCE.TYPE':'RE','EMPLOY.CONSTITUTION':'EM','APPLICATION.SCORE':'AS','APPROVED.AMOUNT':'AA','APPLIED.AMOUNT':'APA','LOAN.TENOR':'LO','OWN.HOUSE.TYPE':'OW'})"
   ]
  },
  {
   "cell_type": "code",
   "execution_count": 81,
   "metadata": {},
   "outputs": [],
   "source": [
    "Y, X = dmatrices('APPLICATION ~ MA + GE + ED + RE + EM + AS + AA + APA + LO + OW + AGE', df2, return_type=\"dataframe\")"
   ]
  },
  {
   "cell_type": "code",
   "execution_count": 82,
   "metadata": {},
   "outputs": [],
   "source": [
    "Y = Y.rename(columns = {'APPLICATION[Approved]':'APPL'})"
   ]
  },
  {
   "cell_type": "code",
   "execution_count": 83,
   "metadata": {},
   "outputs": [],
   "source": [
    "# TRAIN TEST SPLIT"
   ]
  },
  {
   "cell_type": "code",
   "execution_count": 84,
   "metadata": {},
   "outputs": [],
   "source": [
    "X_train,X_test,Y_train,Y_test = train_test_split(X,Y['APPL'],test_size = 0.2,random_state = 0)"
   ]
  },
  {
   "cell_type": "code",
   "execution_count": 92,
   "metadata": {},
   "outputs": [],
   "source": [
    "# ADAPTIVE BOOSTING, XG BOOST AND GRADIENT BOOSTING"
   ]
  },
  {
   "cell_type": "code",
   "execution_count": 86,
   "metadata": {},
   "outputs": [],
   "source": [
    "# INSTANTIATE MODELS"
   ]
  },
  {
   "cell_type": "code",
   "execution_count": 87,
   "metadata": {},
   "outputs": [],
   "source": [
    "from sklearn.ensemble import AdaBoostClassifier\n",
    "model1 = AdaBoostClassifier()"
   ]
  },
  {
   "cell_type": "code",
   "execution_count": 88,
   "metadata": {},
   "outputs": [],
   "source": [
    "from sklearn.ensemble import GradientBoostingClassifier\n",
    "model2 = GradientBoostingClassifier()"
   ]
  },
  {
   "cell_type": "code",
   "execution_count": 99,
   "metadata": {},
   "outputs": [],
   "source": [
    "from xgboost import XGBClassifier\n",
    "model3  = XGBClassifier()"
   ]
  },
  {
   "cell_type": "code",
   "execution_count": 94,
   "metadata": {},
   "outputs": [],
   "source": [
    "# FIT THE DATA"
   ]
  },
  {
   "cell_type": "code",
   "execution_count": 95,
   "metadata": {},
   "outputs": [
    {
     "data": {
      "text/plain": [
       "AdaBoostClassifier(algorithm='SAMME.R', base_estimator=None,\n",
       "          learning_rate=1.0, n_estimators=50, random_state=None)"
      ]
     },
     "execution_count": 95,
     "metadata": {},
     "output_type": "execute_result"
    }
   ],
   "source": [
    "model1.fit(X_train,Y_train)"
   ]
  },
  {
   "cell_type": "code",
   "execution_count": 96,
   "metadata": {},
   "outputs": [
    {
     "data": {
      "text/plain": [
       "GradientBoostingClassifier(criterion='friedman_mse', init=None,\n",
       "              learning_rate=0.1, loss='deviance', max_depth=3,\n",
       "              max_features=None, max_leaf_nodes=None,\n",
       "              min_impurity_decrease=0.0, min_impurity_split=None,\n",
       "              min_samples_leaf=1, min_samples_split=2,\n",
       "              min_weight_fraction_leaf=0.0, n_estimators=100,\n",
       "              presort='auto', random_state=None, subsample=1.0, verbose=0,\n",
       "              warm_start=False)"
      ]
     },
     "execution_count": 96,
     "metadata": {},
     "output_type": "execute_result"
    }
   ],
   "source": [
    "model2.fit(X_train,Y_train) # NUMBER OF TREES = 10"
   ]
  },
  {
   "cell_type": "code",
   "execution_count": 136,
   "metadata": {},
   "outputs": [],
   "source": [
    "import re\n",
    "regex = re.compile(r\"\\[|\\]|<\", re.IGNORECASE)\n",
    "X_train.columns = [regex.sub(\"_\", col) if any(x in str(col) for x in set(('[', ']', '<'))) else col for col in X_train.columns.values]\n",
    "X_test.columns = [regex.sub(\"_\", col) if any(x in str(col) for x in set(('[', ']', '<'))) else col for col in X_test.columns.values]\n",
    "X.columns = [regex.sub(\"_\", col) if any(x in str(col) for x in set(('[', ']', '<'))) else col for col in X.columns.values]"
   ]
  },
  {
   "cell_type": "code",
   "execution_count": 108,
   "metadata": {},
   "outputs": [
    {
     "data": {
      "text/plain": [
       "XGBClassifier(base_score=0.5, booster='gbtree', colsample_bylevel=1,\n",
       "       colsample_bytree=1, gamma=0, learning_rate=0.1, max_delta_step=0,\n",
       "       max_depth=3, min_child_weight=1, missing=None, n_estimators=100,\n",
       "       n_jobs=1, nthread=None, objective='binary:logistic', random_state=0,\n",
       "       reg_alpha=0, reg_lambda=1, scale_pos_weight=1, seed=None,\n",
       "       silent=True, subsample=1)"
      ]
     },
     "execution_count": 108,
     "metadata": {},
     "output_type": "execute_result"
    }
   ],
   "source": [
    "model3.fit(X_train,Y_train, verbose = False)"
   ]
  },
  {
   "cell_type": "code",
   "execution_count": 191,
   "metadata": {},
   "outputs": [],
   "source": [
    "# CALCULATE MODEL SCORES"
   ]
  },
  {
   "cell_type": "code",
   "execution_count": 109,
   "metadata": {},
   "outputs": [
    {
     "data": {
      "text/plain": [
       "0.86920103092783507"
      ]
     },
     "execution_count": 109,
     "metadata": {},
     "output_type": "execute_result"
    }
   ],
   "source": [
    "model1.score(X_test,Y_test)"
   ]
  },
  {
   "cell_type": "code",
   "execution_count": 110,
   "metadata": {},
   "outputs": [
    {
     "data": {
      "text/plain": [
       "0.87564432989690721"
      ]
     },
     "execution_count": 110,
     "metadata": {},
     "output_type": "execute_result"
    }
   ],
   "source": [
    "model2.score(X_test,Y_test)"
   ]
  },
  {
   "cell_type": "code",
   "execution_count": 113,
   "metadata": {},
   "outputs": [
    {
     "data": {
      "text/plain": [
       "0.87306701030927836"
      ]
     },
     "execution_count": 113,
     "metadata": {},
     "output_type": "execute_result"
    }
   ],
   "source": [
    "model3.score(X_test,Y_test)"
   ]
  },
  {
   "cell_type": "code",
   "execution_count": 194,
   "metadata": {},
   "outputs": [],
   "source": [
    "# CONFUSION MATRIX METRICS"
   ]
  },
  {
   "cell_type": "code",
   "execution_count": 114,
   "metadata": {},
   "outputs": [],
   "source": [
    "predicted1 = model1.predict(X_test)"
   ]
  },
  {
   "cell_type": "code",
   "execution_count": 115,
   "metadata": {},
   "outputs": [],
   "source": [
    "predicted2 = model2.predict(X_test)"
   ]
  },
  {
   "cell_type": "code",
   "execution_count": 116,
   "metadata": {},
   "outputs": [],
   "source": [
    "predicted3 = model3.predict(X_test)"
   ]
  },
  {
   "cell_type": "code",
   "execution_count": 117,
   "metadata": {},
   "outputs": [
    {
     "name": "stdout",
     "output_type": "stream",
     "text": [
      "[[661  20]\n",
      " [183 688]]\n",
      "             precision    recall  f1-score   support\n",
      "\n",
      "        0.0       0.78      0.97      0.87       681\n",
      "        1.0       0.97      0.79      0.87       871\n",
      "\n",
      "avg / total       0.89      0.87      0.87      1552\n",
      "\n"
     ]
    }
   ],
   "source": [
    "print(metrics.confusion_matrix(Y_test, predicted1))\n",
    "print (metrics.classification_report(Y_test, predicted1))"
   ]
  },
  {
   "cell_type": "code",
   "execution_count": 118,
   "metadata": {},
   "outputs": [
    {
     "name": "stdout",
     "output_type": "stream",
     "text": [
      "[[658  23]\n",
      " [170 701]]\n",
      "             precision    recall  f1-score   support\n",
      "\n",
      "        0.0       0.79      0.97      0.87       681\n",
      "        1.0       0.97      0.80      0.88       871\n",
      "\n",
      "avg / total       0.89      0.88      0.88      1552\n",
      "\n"
     ]
    }
   ],
   "source": [
    "print(metrics.confusion_matrix(Y_test, predicted2))\n",
    "print (metrics.classification_report(Y_test, predicted2))"
   ]
  },
  {
   "cell_type": "code",
   "execution_count": 130,
   "metadata": {},
   "outputs": [
    {
     "name": "stdout",
     "output_type": "stream",
     "text": [
      "[[668  13]\n",
      " [184 687]]\n",
      "             precision    recall  f1-score   support\n",
      "\n",
      "        0.0       0.78      0.98      0.87       681\n",
      "        1.0       0.98      0.79      0.87       871\n",
      "\n",
      "avg / total       0.89      0.87      0.87      1552\n",
      "\n"
     ]
    }
   ],
   "source": [
    "print(metrics.confusion_matrix(Y_test, predicted3))\n",
    "print (metrics.classification_report(Y_test, predicted3))"
   ]
  },
  {
   "cell_type": "code",
   "execution_count": 199,
   "metadata": {},
   "outputs": [],
   "source": [
    "# CONFUSION MATRIX"
   ]
  },
  {
   "cell_type": "code",
   "execution_count": 120,
   "metadata": {},
   "outputs": [
    {
     "data": {
      "text/plain": [
       "<matplotlib.colorbar.Colorbar at 0x7fdbcd3faf28>"
      ]
     },
     "execution_count": 120,
     "metadata": {},
     "output_type": "execute_result"
    },
    {
     "data": {
      "image/png": "[encoded data removed]",
      "text/plain": [
       "<matplotlib.figure.Figure at 0x7fdbcd3faf60>"
      ]
     },
     "metadata": {},
     "output_type": "display_data"
    }
   ],
   "source": [
    "cm = confusion_matrix(Y_test, predicted1)\n",
    "plt.matshow(cm)\n",
    "plt.colorbar()"
   ]
  },
  {
   "cell_type": "code",
   "execution_count": 121,
   "metadata": {},
   "outputs": [
    {
     "data": {
      "text/plain": [
       "<matplotlib.colorbar.Colorbar at 0x7fdbcd3be358>"
      ]
     },
     "execution_count": 121,
     "metadata": {},
     "output_type": "execute_result"
    },
    {
     "data": {
      "image/png": "[encoded data removed]",
      "text/plain": [
       "<matplotlib.figure.Figure at 0x7fdbcd3be940>"
      ]
     },
     "metadata": {},
     "output_type": "display_data"
    }
   ],
   "source": [
    "cm = confusion_matrix(Y_test, predicted2)\n",
    "plt.matshow(cm)\n",
    "plt.colorbar()"
   ]
  },
  {
   "cell_type": "code",
   "execution_count": 122,
   "metadata": {},
   "outputs": [
    {
     "data": {
      "text/plain": [
       "<matplotlib.colorbar.Colorbar at 0x7fdbcdad8630>"
      ]
     },
     "execution_count": 122,
     "metadata": {},
     "output_type": "execute_result"
    },
    {
     "data": {
      "image/png": "[encoded data removed]",
      "text/plain": [
       "<matplotlib.figure.Figure at 0x7fdbcd3ac470>"
      ]
     },
     "metadata": {},
     "output_type": "display_data"
    }
   ],
   "source": [
    "cm = confusion_matrix(Y_test, predicted3)\n",
    "plt.matshow(cm)\n",
    "plt.colorbar()"
   ]
  },
  {
   "cell_type": "code",
   "execution_count": 229,
   "metadata": {},
   "outputs": [],
   "source": [
    "# FEATURE IMPORTANCES"
   ]
  },
  {
   "cell_type": "code",
   "execution_count": 123,
   "metadata": {},
   "outputs": [],
   "source": [
    "from sklearn.ensemble import ExtraTreesClassifier"
   ]
  },
  {
   "cell_type": "code",
   "execution_count": 124,
   "metadata": {},
   "outputs": [],
   "source": [
    "model = ExtraTreesClassifier()"
   ]
  },
  {
   "cell_type": "code",
   "execution_count": 125,
   "metadata": {},
   "outputs": [
    {
     "data": {
      "text/plain": [
       "ExtraTreesClassifier(bootstrap=False, class_weight=None, criterion='gini',\n",
       "           max_depth=None, max_features='auto', max_leaf_nodes=None,\n",
       "           min_impurity_decrease=0.0, min_impurity_split=None,\n",
       "           min_samples_leaf=1, min_samples_split=2,\n",
       "           min_weight_fraction_leaf=0.0, n_estimators=10, n_jobs=1,\n",
       "           oob_score=False, random_state=None, verbose=0, warm_start=False)"
      ]
     },
     "execution_count": 125,
     "metadata": {},
     "output_type": "execute_result"
    }
   ],
   "source": [
    "model.fit(X_train,Y_train)"
   ]
  },
  {
   "cell_type": "code",
   "execution_count": 126,
   "metadata": {},
   "outputs": [
    {
     "name": "stdout",
     "output_type": "stream",
     "text": [
      "[  0.00000000e+00   1.55555386e-02   2.00380663e-02   1.14800935e-02\n",
      "   8.70880648e-03   6.03607400e-03   1.30191974e-03   1.09959199e-02\n",
      "   1.76152895e-03   7.26631168e-03   4.83753835e-03   7.68390822e-03\n",
      "   6.67995592e-03   7.50301863e-03   3.11024096e-03   6.45911872e-03\n",
      "   4.13977555e-05   3.49986979e-03   2.73280659e-03   5.37447238e-03\n",
      "   3.47862920e-03   7.41885280e-03   1.24246745e-03   1.00327227e-02\n",
      "   1.10582058e-02   2.86272014e-04   5.93131705e-03   8.52956712e-03\n",
      "   2.35008641e-03   1.47518509e-01   3.18806159e-01   1.42867670e-01\n",
      "   6.99255543e-02   1.39487402e-01]\n"
     ]
    }
   ],
   "source": [
    "print(model.feature_importances_)"
   ]
  },
  {
   "cell_type": "code",
   "execution_count": 127,
   "metadata": {},
   "outputs": [],
   "source": [
    "# Evaluate using Cross Validation\n",
    "\n",
    "from sklearn.model_selection import KFold\n",
    "from sklearn.model_selection import cross_val_score\n",
    "\n",
    "num_folds = 10\n",
    "seed = 7\n",
    "kfold = KFold(n_splits=num_folds, random_state=seed)\n",
    "results1 = cross_val_score(model1, X, Y['APPL'], cv=kfold)\n"
   ]
  },
  {
   "cell_type": "code",
   "execution_count": 128,
   "metadata": {},
   "outputs": [
    {
     "data": {
      "text/plain": [
       "0.8584915197871632"
      ]
     },
     "execution_count": 128,
     "metadata": {},
     "output_type": "execute_result"
    }
   ],
   "source": [
    "results1.mean()"
   ]
  },
  {
   "cell_type": "code",
   "execution_count": 129,
   "metadata": {},
   "outputs": [
    {
     "data": {
      "text/plain": [
       "0.043199380818263196"
      ]
     },
     "execution_count": 129,
     "metadata": {},
     "output_type": "execute_result"
    }
   ],
   "source": [
    "results1.std()"
   ]
  },
  {
   "cell_type": "code",
   "execution_count": 131,
   "metadata": {},
   "outputs": [],
   "source": [
    "# Evaluate using Cross Validation\n",
    "\n",
    "from sklearn.model_selection import KFold\n",
    "from sklearn.model_selection import cross_val_score\n",
    "\n",
    "num_folds = 10\n",
    "seed = 7\n",
    "kfold = KFold(n_splits=num_folds, random_state=seed)\n",
    "results2 = cross_val_score(model2, X, Y['APPL'], cv=kfold)"
   ]
  },
  {
   "cell_type": "code",
   "execution_count": 132,
   "metadata": {},
   "outputs": [
    {
     "data": {
      "text/plain": [
       "0.86519371466577988"
      ]
     },
     "execution_count": 132,
     "metadata": {},
     "output_type": "execute_result"
    }
   ],
   "source": [
    "results2.mean()"
   ]
  },
  {
   "cell_type": "code",
   "execution_count": 134,
   "metadata": {},
   "outputs": [
    {
     "data": {
      "text/plain": [
       "0.041818309664144959"
      ]
     },
     "execution_count": 134,
     "metadata": {},
     "output_type": "execute_result"
    }
   ],
   "source": [
    "results2.std()"
   ]
  },
  {
   "cell_type": "code",
   "execution_count": 137,
   "metadata": {},
   "outputs": [],
   "source": [
    "# Evaluate using Cross Validation\n",
    "\n",
    "from sklearn.model_selection import KFold\n",
    "from sklearn.model_selection import cross_val_score\n",
    "\n",
    "num_folds = 10\n",
    "seed = 7\n",
    "kfold = KFold(n_splits=num_folds, random_state=seed)\n",
    "results3 = cross_val_score(model3, X, Y['APPL'], cv=kfold)"
   ]
  },
  {
   "cell_type": "code",
   "execution_count": 138,
   "metadata": {},
   "outputs": [
    {
     "data": {
      "text/plain": [
       "0.86429248420352511"
      ]
     },
     "execution_count": 138,
     "metadata": {},
     "output_type": "execute_result"
    }
   ],
   "source": [
    "results3.mean()"
   ]
  },
  {
   "cell_type": "code",
   "execution_count": 139,
   "metadata": {},
   "outputs": [
    {
     "data": {
      "text/plain": [
       "0.044442381877137151"
      ]
     },
     "execution_count": 139,
     "metadata": {},
     "output_type": "execute_result"
    }
   ],
   "source": [
    "results3.std()"
   ]
  },
  {
   "cell_type": "code",
   "execution_count": null,
   "metadata": {},
   "outputs": [],
   "source": []
  }
 ],
 "metadata": {
  "kernelspec": {
   "display_name": "Python 3",
   "language": "python",
   "name": "python3"
  },
  "language_info": {
   "codemirror_mode": {
    "name": "ipython",
    "version": 3
   },
   "file_extension": ".py",
   "mimetype": "text/x-python",
   "name": "python",
   "nbconvert_exporter": "python",
   "pygments_lexer": "ipython3",
   "version": "3.6.5"
  }
 },
 "nbformat": 4,
 "nbformat_minor": 2
}
