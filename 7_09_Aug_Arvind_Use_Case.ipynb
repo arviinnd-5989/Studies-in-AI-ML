{
 "cells": [
  {
   "cell_type": "markdown",
   "metadata": {},
   "source": [
    "# USE CASE : CRIME RATE"
   ]
  },
  {
   "cell_type": "markdown",
   "metadata": {},
   "source": [
    "# Summary"
   ]
  },
  {
   "cell_type": "markdown",
   "metadata": {},
   "source": [
    "The problem concerns the prediction of crime rate from demographic data using linear regression. First, we read the excel file and then split the data into train and test data. Then, we set up the model and fit the data using X_train and Y_train. We find the model coefficients and model intercept. We make predictions on crime rate using the test data and find mean squared error and variance score of the model. Finally, we plot actual values and predicted values and find Pearson's correlation coefficients for the different features. We see that feature X7 has the least influence on the traget variable X1."
   ]
  },
  {
   "cell_type": "code",
   "execution_count": 241,
   "metadata": {},
   "outputs": [],
   "source": [
    "import numpy as np\n",
    "import pandas as pd\n",
    "import seaborn as sns\n",
    "import matplotlib.pyplot as plt\n",
    "from sklearn import datasets, linear_model\n",
    "from sklearn.metrics import mean_squared_error, r2_score\n",
    "from sklearn.linear_model import LinearRegression\n",
    "from scipy import stats"
   ]
  },
  {
   "cell_type": "code",
   "execution_count": 242,
   "metadata": {},
   "outputs": [],
   "source": [
    "df = pd.read_excel(\"crime.xlsx\")"
   ]
  },
  {
   "cell_type": "code",
   "execution_count": 243,
   "metadata": {},
   "outputs": [
    {
     "data": {
      "text/html": [
       "<div>\n",
       "<style scoped>\n",
       "    .dataframe tbody tr th:only-of-type {\n",
       "        vertical-align: middle;\n",
       "    }\n",
       "\n",
       "    .dataframe tbody tr th {\n",
       "        vertical-align: top;\n",
       "    }\n",
       "\n",
       "    .dataframe thead th {\n",
       "        text-align: right;\n",
       "    }\n",
       "</style>\n",
       "<table border=\"1\" class=\"dataframe\">\n",
       "  <thead>\n",
       "    <tr style=\"text-align: right;\">\n",
       "      <th></th>\n",
       "      <th>X1</th>\n",
       "      <th>X2</th>\n",
       "      <th>X3</th>\n",
       "      <th>X4</th>\n",
       "      <th>X5</th>\n",
       "      <th>X6</th>\n",
       "      <th>X7</th>\n",
       "    </tr>\n",
       "  </thead>\n",
       "  <tbody>\n",
       "    <tr>\n",
       "      <th>0</th>\n",
       "      <td>478</td>\n",
       "      <td>184</td>\n",
       "      <td>40</td>\n",
       "      <td>74</td>\n",
       "      <td>11</td>\n",
       "      <td>31</td>\n",
       "      <td>20</td>\n",
       "    </tr>\n",
       "    <tr>\n",
       "      <th>1</th>\n",
       "      <td>494</td>\n",
       "      <td>213</td>\n",
       "      <td>32</td>\n",
       "      <td>72</td>\n",
       "      <td>11</td>\n",
       "      <td>43</td>\n",
       "      <td>18</td>\n",
       "    </tr>\n",
       "    <tr>\n",
       "      <th>2</th>\n",
       "      <td>643</td>\n",
       "      <td>347</td>\n",
       "      <td>57</td>\n",
       "      <td>70</td>\n",
       "      <td>18</td>\n",
       "      <td>16</td>\n",
       "      <td>16</td>\n",
       "    </tr>\n",
       "    <tr>\n",
       "      <th>3</th>\n",
       "      <td>341</td>\n",
       "      <td>565</td>\n",
       "      <td>31</td>\n",
       "      <td>71</td>\n",
       "      <td>11</td>\n",
       "      <td>25</td>\n",
       "      <td>19</td>\n",
       "    </tr>\n",
       "    <tr>\n",
       "      <th>4</th>\n",
       "      <td>773</td>\n",
       "      <td>327</td>\n",
       "      <td>67</td>\n",
       "      <td>72</td>\n",
       "      <td>9</td>\n",
       "      <td>29</td>\n",
       "      <td>24</td>\n",
       "    </tr>\n",
       "  </tbody>\n",
       "</table>\n",
       "</div>"
      ],
      "text/plain": [
       "    X1   X2  X3  X4  X5  X6  X7\n",
       "0  478  184  40  74  11  31  20\n",
       "1  494  213  32  72  11  43  18\n",
       "2  643  347  57  70  18  16  16\n",
       "3  341  565  31  71  11  25  19\n",
       "4  773  327  67  72   9  29  24"
      ]
     },
     "execution_count": 243,
     "metadata": {},
     "output_type": "execute_result"
    }
   ],
   "source": [
    "df.head()"
   ]
  },
  {
   "cell_type": "markdown",
   "metadata": {},
   "source": [
    "# Reaname columns"
   ]
  },
  {
   "cell_type": "code",
   "execution_count": 276,
   "metadata": {},
   "outputs": [],
   "source": [
    "df2 = df.rename(columns = {'X1':'crime_rate per 1 million','X2': 'crime rate per 100,000','X3':'annual police funding','X4':'25year_4yearsschool','X5':'16-19 not high school','X6':'18-24 in college','X7':'25 years 4 years college'})"
   ]
  },
  {
   "cell_type": "code",
   "execution_count": 277,
   "metadata": {},
   "outputs": [
    {
     "data": {
      "text/html": [
       "<div>\n",
       "<style scoped>\n",
       "    .dataframe tbody tr th:only-of-type {\n",
       "        vertical-align: middle;\n",
       "    }\n",
       "\n",
       "    .dataframe tbody tr th {\n",
       "        vertical-align: top;\n",
       "    }\n",
       "\n",
       "    .dataframe thead th {\n",
       "        text-align: right;\n",
       "    }\n",
       "</style>\n",
       "<table border=\"1\" class=\"dataframe\">\n",
       "  <thead>\n",
       "    <tr style=\"text-align: right;\">\n",
       "      <th></th>\n",
       "      <th>crime_rate per 1 million</th>\n",
       "      <th>crime rate per 100,000</th>\n",
       "      <th>annual police funding</th>\n",
       "      <th>25year_4yearsschool</th>\n",
       "      <th>16-19 not high school</th>\n",
       "      <th>18-24 in college</th>\n",
       "      <th>25 years 4 years college</th>\n",
       "    </tr>\n",
       "  </thead>\n",
       "  <tbody>\n",
       "    <tr>\n",
       "      <th>0</th>\n",
       "      <td>478</td>\n",
       "      <td>184</td>\n",
       "      <td>40</td>\n",
       "      <td>74</td>\n",
       "      <td>11</td>\n",
       "      <td>31</td>\n",
       "      <td>20</td>\n",
       "    </tr>\n",
       "    <tr>\n",
       "      <th>1</th>\n",
       "      <td>494</td>\n",
       "      <td>213</td>\n",
       "      <td>32</td>\n",
       "      <td>72</td>\n",
       "      <td>11</td>\n",
       "      <td>43</td>\n",
       "      <td>18</td>\n",
       "    </tr>\n",
       "    <tr>\n",
       "      <th>2</th>\n",
       "      <td>643</td>\n",
       "      <td>347</td>\n",
       "      <td>57</td>\n",
       "      <td>70</td>\n",
       "      <td>18</td>\n",
       "      <td>16</td>\n",
       "      <td>16</td>\n",
       "    </tr>\n",
       "    <tr>\n",
       "      <th>3</th>\n",
       "      <td>341</td>\n",
       "      <td>565</td>\n",
       "      <td>31</td>\n",
       "      <td>71</td>\n",
       "      <td>11</td>\n",
       "      <td>25</td>\n",
       "      <td>19</td>\n",
       "    </tr>\n",
       "    <tr>\n",
       "      <th>4</th>\n",
       "      <td>773</td>\n",
       "      <td>327</td>\n",
       "      <td>67</td>\n",
       "      <td>72</td>\n",
       "      <td>9</td>\n",
       "      <td>29</td>\n",
       "      <td>24</td>\n",
       "    </tr>\n",
       "    <tr>\n",
       "      <th>5</th>\n",
       "      <td>603</td>\n",
       "      <td>260</td>\n",
       "      <td>25</td>\n",
       "      <td>68</td>\n",
       "      <td>8</td>\n",
       "      <td>32</td>\n",
       "      <td>15</td>\n",
       "    </tr>\n",
       "    <tr>\n",
       "      <th>6</th>\n",
       "      <td>484</td>\n",
       "      <td>325</td>\n",
       "      <td>34</td>\n",
       "      <td>68</td>\n",
       "      <td>12</td>\n",
       "      <td>24</td>\n",
       "      <td>14</td>\n",
       "    </tr>\n",
       "    <tr>\n",
       "      <th>7</th>\n",
       "      <td>546</td>\n",
       "      <td>102</td>\n",
       "      <td>33</td>\n",
       "      <td>62</td>\n",
       "      <td>13</td>\n",
       "      <td>28</td>\n",
       "      <td>11</td>\n",
       "    </tr>\n",
       "    <tr>\n",
       "      <th>8</th>\n",
       "      <td>424</td>\n",
       "      <td>38</td>\n",
       "      <td>36</td>\n",
       "      <td>69</td>\n",
       "      <td>7</td>\n",
       "      <td>25</td>\n",
       "      <td>12</td>\n",
       "    </tr>\n",
       "    <tr>\n",
       "      <th>9</th>\n",
       "      <td>548</td>\n",
       "      <td>226</td>\n",
       "      <td>31</td>\n",
       "      <td>66</td>\n",
       "      <td>9</td>\n",
       "      <td>58</td>\n",
       "      <td>15</td>\n",
       "    </tr>\n",
       "    <tr>\n",
       "      <th>10</th>\n",
       "      <td>506</td>\n",
       "      <td>137</td>\n",
       "      <td>35</td>\n",
       "      <td>60</td>\n",
       "      <td>13</td>\n",
       "      <td>21</td>\n",
       "      <td>9</td>\n",
       "    </tr>\n",
       "    <tr>\n",
       "      <th>11</th>\n",
       "      <td>819</td>\n",
       "      <td>369</td>\n",
       "      <td>30</td>\n",
       "      <td>81</td>\n",
       "      <td>4</td>\n",
       "      <td>77</td>\n",
       "      <td>36</td>\n",
       "    </tr>\n",
       "    <tr>\n",
       "      <th>12</th>\n",
       "      <td>541</td>\n",
       "      <td>109</td>\n",
       "      <td>44</td>\n",
       "      <td>66</td>\n",
       "      <td>9</td>\n",
       "      <td>37</td>\n",
       "      <td>12</td>\n",
       "    </tr>\n",
       "    <tr>\n",
       "      <th>13</th>\n",
       "      <td>491</td>\n",
       "      <td>809</td>\n",
       "      <td>32</td>\n",
       "      <td>67</td>\n",
       "      <td>11</td>\n",
       "      <td>37</td>\n",
       "      <td>16</td>\n",
       "    </tr>\n",
       "    <tr>\n",
       "      <th>14</th>\n",
       "      <td>514</td>\n",
       "      <td>29</td>\n",
       "      <td>30</td>\n",
       "      <td>65</td>\n",
       "      <td>12</td>\n",
       "      <td>35</td>\n",
       "      <td>11</td>\n",
       "    </tr>\n",
       "    <tr>\n",
       "      <th>15</th>\n",
       "      <td>371</td>\n",
       "      <td>245</td>\n",
       "      <td>16</td>\n",
       "      <td>64</td>\n",
       "      <td>10</td>\n",
       "      <td>42</td>\n",
       "      <td>14</td>\n",
       "    </tr>\n",
       "    <tr>\n",
       "      <th>16</th>\n",
       "      <td>457</td>\n",
       "      <td>118</td>\n",
       "      <td>29</td>\n",
       "      <td>64</td>\n",
       "      <td>12</td>\n",
       "      <td>21</td>\n",
       "      <td>10</td>\n",
       "    </tr>\n",
       "    <tr>\n",
       "      <th>17</th>\n",
       "      <td>437</td>\n",
       "      <td>148</td>\n",
       "      <td>36</td>\n",
       "      <td>62</td>\n",
       "      <td>7</td>\n",
       "      <td>81</td>\n",
       "      <td>27</td>\n",
       "    </tr>\n",
       "    <tr>\n",
       "      <th>18</th>\n",
       "      <td>570</td>\n",
       "      <td>387</td>\n",
       "      <td>30</td>\n",
       "      <td>59</td>\n",
       "      <td>15</td>\n",
       "      <td>31</td>\n",
       "      <td>16</td>\n",
       "    </tr>\n",
       "    <tr>\n",
       "      <th>19</th>\n",
       "      <td>432</td>\n",
       "      <td>98</td>\n",
       "      <td>23</td>\n",
       "      <td>56</td>\n",
       "      <td>15</td>\n",
       "      <td>50</td>\n",
       "      <td>15</td>\n",
       "    </tr>\n",
       "    <tr>\n",
       "      <th>20</th>\n",
       "      <td>619</td>\n",
       "      <td>608</td>\n",
       "      <td>33</td>\n",
       "      <td>46</td>\n",
       "      <td>22</td>\n",
       "      <td>24</td>\n",
       "      <td>8</td>\n",
       "    </tr>\n",
       "    <tr>\n",
       "      <th>21</th>\n",
       "      <td>357</td>\n",
       "      <td>218</td>\n",
       "      <td>35</td>\n",
       "      <td>54</td>\n",
       "      <td>14</td>\n",
       "      <td>27</td>\n",
       "      <td>13</td>\n",
       "    </tr>\n",
       "    <tr>\n",
       "      <th>22</th>\n",
       "      <td>623</td>\n",
       "      <td>254</td>\n",
       "      <td>38</td>\n",
       "      <td>54</td>\n",
       "      <td>20</td>\n",
       "      <td>22</td>\n",
       "      <td>11</td>\n",
       "    </tr>\n",
       "    <tr>\n",
       "      <th>23</th>\n",
       "      <td>547</td>\n",
       "      <td>697</td>\n",
       "      <td>44</td>\n",
       "      <td>45</td>\n",
       "      <td>26</td>\n",
       "      <td>18</td>\n",
       "      <td>8</td>\n",
       "    </tr>\n",
       "    <tr>\n",
       "      <th>24</th>\n",
       "      <td>792</td>\n",
       "      <td>827</td>\n",
       "      <td>28</td>\n",
       "      <td>57</td>\n",
       "      <td>12</td>\n",
       "      <td>23</td>\n",
       "      <td>11</td>\n",
       "    </tr>\n",
       "    <tr>\n",
       "      <th>25</th>\n",
       "      <td>799</td>\n",
       "      <td>693</td>\n",
       "      <td>35</td>\n",
       "      <td>57</td>\n",
       "      <td>9</td>\n",
       "      <td>60</td>\n",
       "      <td>18</td>\n",
       "    </tr>\n",
       "    <tr>\n",
       "      <th>26</th>\n",
       "      <td>439</td>\n",
       "      <td>448</td>\n",
       "      <td>31</td>\n",
       "      <td>61</td>\n",
       "      <td>19</td>\n",
       "      <td>14</td>\n",
       "      <td>12</td>\n",
       "    </tr>\n",
       "    <tr>\n",
       "      <th>27</th>\n",
       "      <td>867</td>\n",
       "      <td>942</td>\n",
       "      <td>39</td>\n",
       "      <td>52</td>\n",
       "      <td>17</td>\n",
       "      <td>31</td>\n",
       "      <td>10</td>\n",
       "    </tr>\n",
       "    <tr>\n",
       "      <th>28</th>\n",
       "      <td>912</td>\n",
       "      <td>1017</td>\n",
       "      <td>27</td>\n",
       "      <td>44</td>\n",
       "      <td>21</td>\n",
       "      <td>24</td>\n",
       "      <td>9</td>\n",
       "    </tr>\n",
       "    <tr>\n",
       "      <th>29</th>\n",
       "      <td>462</td>\n",
       "      <td>216</td>\n",
       "      <td>36</td>\n",
       "      <td>43</td>\n",
       "      <td>18</td>\n",
       "      <td>23</td>\n",
       "      <td>8</td>\n",
       "    </tr>\n",
       "    <tr>\n",
       "      <th>30</th>\n",
       "      <td>859</td>\n",
       "      <td>673</td>\n",
       "      <td>38</td>\n",
       "      <td>48</td>\n",
       "      <td>19</td>\n",
       "      <td>22</td>\n",
       "      <td>10</td>\n",
       "    </tr>\n",
       "    <tr>\n",
       "      <th>31</th>\n",
       "      <td>805</td>\n",
       "      <td>989</td>\n",
       "      <td>46</td>\n",
       "      <td>57</td>\n",
       "      <td>14</td>\n",
       "      <td>25</td>\n",
       "      <td>12</td>\n",
       "    </tr>\n",
       "    <tr>\n",
       "      <th>32</th>\n",
       "      <td>652</td>\n",
       "      <td>630</td>\n",
       "      <td>29</td>\n",
       "      <td>47</td>\n",
       "      <td>19</td>\n",
       "      <td>25</td>\n",
       "      <td>9</td>\n",
       "    </tr>\n",
       "    <tr>\n",
       "      <th>33</th>\n",
       "      <td>776</td>\n",
       "      <td>404</td>\n",
       "      <td>32</td>\n",
       "      <td>50</td>\n",
       "      <td>19</td>\n",
       "      <td>21</td>\n",
       "      <td>9</td>\n",
       "    </tr>\n",
       "    <tr>\n",
       "      <th>34</th>\n",
       "      <td>919</td>\n",
       "      <td>692</td>\n",
       "      <td>39</td>\n",
       "      <td>48</td>\n",
       "      <td>16</td>\n",
       "      <td>32</td>\n",
       "      <td>11</td>\n",
       "    </tr>\n",
       "    <tr>\n",
       "      <th>35</th>\n",
       "      <td>732</td>\n",
       "      <td>1517</td>\n",
       "      <td>44</td>\n",
       "      <td>49</td>\n",
       "      <td>13</td>\n",
       "      <td>31</td>\n",
       "      <td>14</td>\n",
       "    </tr>\n",
       "    <tr>\n",
       "      <th>36</th>\n",
       "      <td>657</td>\n",
       "      <td>879</td>\n",
       "      <td>33</td>\n",
       "      <td>72</td>\n",
       "      <td>13</td>\n",
       "      <td>13</td>\n",
       "      <td>22</td>\n",
       "    </tr>\n",
       "    <tr>\n",
       "      <th>37</th>\n",
       "      <td>1419</td>\n",
       "      <td>631</td>\n",
       "      <td>43</td>\n",
       "      <td>59</td>\n",
       "      <td>14</td>\n",
       "      <td>21</td>\n",
       "      <td>13</td>\n",
       "    </tr>\n",
       "    <tr>\n",
       "      <th>38</th>\n",
       "      <td>989</td>\n",
       "      <td>1375</td>\n",
       "      <td>22</td>\n",
       "      <td>49</td>\n",
       "      <td>9</td>\n",
       "      <td>46</td>\n",
       "      <td>13</td>\n",
       "    </tr>\n",
       "    <tr>\n",
       "      <th>39</th>\n",
       "      <td>821</td>\n",
       "      <td>1139</td>\n",
       "      <td>30</td>\n",
       "      <td>54</td>\n",
       "      <td>13</td>\n",
       "      <td>27</td>\n",
       "      <td>12</td>\n",
       "    </tr>\n",
       "    <tr>\n",
       "      <th>40</th>\n",
       "      <td>1740</td>\n",
       "      <td>3545</td>\n",
       "      <td>86</td>\n",
       "      <td>62</td>\n",
       "      <td>22</td>\n",
       "      <td>18</td>\n",
       "      <td>15</td>\n",
       "    </tr>\n",
       "    <tr>\n",
       "      <th>41</th>\n",
       "      <td>815</td>\n",
       "      <td>706</td>\n",
       "      <td>30</td>\n",
       "      <td>47</td>\n",
       "      <td>17</td>\n",
       "      <td>39</td>\n",
       "      <td>11</td>\n",
       "    </tr>\n",
       "    <tr>\n",
       "      <th>42</th>\n",
       "      <td>760</td>\n",
       "      <td>451</td>\n",
       "      <td>32</td>\n",
       "      <td>45</td>\n",
       "      <td>34</td>\n",
       "      <td>15</td>\n",
       "      <td>10</td>\n",
       "    </tr>\n",
       "    <tr>\n",
       "      <th>43</th>\n",
       "      <td>936</td>\n",
       "      <td>433</td>\n",
       "      <td>43</td>\n",
       "      <td>48</td>\n",
       "      <td>26</td>\n",
       "      <td>23</td>\n",
       "      <td>12</td>\n",
       "    </tr>\n",
       "    <tr>\n",
       "      <th>44</th>\n",
       "      <td>863</td>\n",
       "      <td>601</td>\n",
       "      <td>20</td>\n",
       "      <td>69</td>\n",
       "      <td>23</td>\n",
       "      <td>7</td>\n",
       "      <td>12</td>\n",
       "    </tr>\n",
       "    <tr>\n",
       "      <th>45</th>\n",
       "      <td>783</td>\n",
       "      <td>1024</td>\n",
       "      <td>55</td>\n",
       "      <td>42</td>\n",
       "      <td>23</td>\n",
       "      <td>23</td>\n",
       "      <td>11</td>\n",
       "    </tr>\n",
       "    <tr>\n",
       "      <th>46</th>\n",
       "      <td>715</td>\n",
       "      <td>457</td>\n",
       "      <td>44</td>\n",
       "      <td>49</td>\n",
       "      <td>18</td>\n",
       "      <td>30</td>\n",
       "      <td>12</td>\n",
       "    </tr>\n",
       "    <tr>\n",
       "      <th>47</th>\n",
       "      <td>1504</td>\n",
       "      <td>1441</td>\n",
       "      <td>37</td>\n",
       "      <td>57</td>\n",
       "      <td>15</td>\n",
       "      <td>35</td>\n",
       "      <td>13</td>\n",
       "    </tr>\n",
       "    <tr>\n",
       "      <th>48</th>\n",
       "      <td>1324</td>\n",
       "      <td>1022</td>\n",
       "      <td>82</td>\n",
       "      <td>72</td>\n",
       "      <td>22</td>\n",
       "      <td>15</td>\n",
       "      <td>16</td>\n",
       "    </tr>\n",
       "    <tr>\n",
       "      <th>49</th>\n",
       "      <td>940</td>\n",
       "      <td>1244</td>\n",
       "      <td>66</td>\n",
       "      <td>67</td>\n",
       "      <td>26</td>\n",
       "      <td>18</td>\n",
       "      <td>16</td>\n",
       "    </tr>\n",
       "  </tbody>\n",
       "</table>\n",
       "</div>"
      ],
      "text/plain": [
       "    crime_rate per 1 million  crime rate per 100,000  annual police funding  \\\n",
       "0                        478                     184                     40   \n",
       "1                        494                     213                     32   \n",
       "2                        643                     347                     57   \n",
       "3                        341                     565                     31   \n",
       "4                        773                     327                     67   \n",
       "5                        603                     260                     25   \n",
       "6                        484                     325                     34   \n",
       "7                        546                     102                     33   \n",
       "8                        424                      38                     36   \n",
       "9                        548                     226                     31   \n",
       "10                       506                     137                     35   \n",
       "11                       819                     369                     30   \n",
       "12                       541                     109                     44   \n",
       "13                       491                     809                     32   \n",
       "14                       514                      29                     30   \n",
       "15                       371                     245                     16   \n",
       "16                       457                     118                     29   \n",
       "17                       437                     148                     36   \n",
       "18                       570                     387                     30   \n",
       "19                       432                      98                     23   \n",
       "20                       619                     608                     33   \n",
       "21                       357                     218                     35   \n",
       "22                       623                     254                     38   \n",
       "23                       547                     697                     44   \n",
       "24                       792                     827                     28   \n",
       "25                       799                     693                     35   \n",
       "26                       439                     448                     31   \n",
       "27                       867                     942                     39   \n",
       "28                       912                    1017                     27   \n",
       "29                       462                     216                     36   \n",
       "30                       859                     673                     38   \n",
       "31                       805                     989                     46   \n",
       "32                       652                     630                     29   \n",
       "33                       776                     404                     32   \n",
       "34                       919                     692                     39   \n",
       "35                       732                    1517                     44   \n",
       "36                       657                     879                     33   \n",
       "37                      1419                     631                     43   \n",
       "38                       989                    1375                     22   \n",
       "39                       821                    1139                     30   \n",
       "40                      1740                    3545                     86   \n",
       "41                       815                     706                     30   \n",
       "42                       760                     451                     32   \n",
       "43                       936                     433                     43   \n",
       "44                       863                     601                     20   \n",
       "45                       783                    1024                     55   \n",
       "46                       715                     457                     44   \n",
       "47                      1504                    1441                     37   \n",
       "48                      1324                    1022                     82   \n",
       "49                       940                    1244                     66   \n",
       "\n",
       "    25year_4yearsschool  16-19 not high school  18-24 in college  \\\n",
       "0                    74                     11                31   \n",
       "1                    72                     11                43   \n",
       "2                    70                     18                16   \n",
       "3                    71                     11                25   \n",
       "4                    72                      9                29   \n",
       "5                    68                      8                32   \n",
       "6                    68                     12                24   \n",
       "7                    62                     13                28   \n",
       "8                    69                      7                25   \n",
       "9                    66                      9                58   \n",
       "10                   60                     13                21   \n",
       "11                   81                      4                77   \n",
       "12                   66                      9                37   \n",
       "13                   67                     11                37   \n",
       "14                   65                     12                35   \n",
       "15                   64                     10                42   \n",
       "16                   64                     12                21   \n",
       "17                   62                      7                81   \n",
       "18                   59                     15                31   \n",
       "19                   56                     15                50   \n",
       "20                   46                     22                24   \n",
       "21                   54                     14                27   \n",
       "22                   54                     20                22   \n",
       "23                   45                     26                18   \n",
       "24                   57                     12                23   \n",
       "25                   57                      9                60   \n",
       "26                   61                     19                14   \n",
       "27                   52                     17                31   \n",
       "28                   44                     21                24   \n",
       "29                   43                     18                23   \n",
       "30                   48                     19                22   \n",
       "31                   57                     14                25   \n",
       "32                   47                     19                25   \n",
       "33                   50                     19                21   \n",
       "34                   48                     16                32   \n",
       "35                   49                     13                31   \n",
       "36                   72                     13                13   \n",
       "37                   59                     14                21   \n",
       "38                   49                      9                46   \n",
       "39                   54                     13                27   \n",
       "40                   62                     22                18   \n",
       "41                   47                     17                39   \n",
       "42                   45                     34                15   \n",
       "43                   48                     26                23   \n",
       "44                   69                     23                 7   \n",
       "45                   42                     23                23   \n",
       "46                   49                     18                30   \n",
       "47                   57                     15                35   \n",
       "48                   72                     22                15   \n",
       "49                   67                     26                18   \n",
       "\n",
       "    25 years 4 years college  \n",
       "0                         20  \n",
       "1                         18  \n",
       "2                         16  \n",
       "3                         19  \n",
       "4                         24  \n",
       "5                         15  \n",
       "6                         14  \n",
       "7                         11  \n",
       "8                         12  \n",
       "9                         15  \n",
       "10                         9  \n",
       "11                        36  \n",
       "12                        12  \n",
       "13                        16  \n",
       "14                        11  \n",
       "15                        14  \n",
       "16                        10  \n",
       "17                        27  \n",
       "18                        16  \n",
       "19                        15  \n",
       "20                         8  \n",
       "21                        13  \n",
       "22                        11  \n",
       "23                         8  \n",
       "24                        11  \n",
       "25                        18  \n",
       "26                        12  \n",
       "27                        10  \n",
       "28                         9  \n",
       "29                         8  \n",
       "30                        10  \n",
       "31                        12  \n",
       "32                         9  \n",
       "33                         9  \n",
       "34                        11  \n",
       "35                        14  \n",
       "36                        22  \n",
       "37                        13  \n",
       "38                        13  \n",
       "39                        12  \n",
       "40                        15  \n",
       "41                        11  \n",
       "42                        10  \n",
       "43                        12  \n",
       "44                        12  \n",
       "45                        11  \n",
       "46                        12  \n",
       "47                        13  \n",
       "48                        16  \n",
       "49                        16  "
      ]
     },
     "execution_count": 277,
     "metadata": {},
     "output_type": "execute_result"
    }
   ],
   "source": [
    "df2"
   ]
  },
  {
   "cell_type": "code",
   "execution_count": 278,
   "metadata": {},
   "outputs": [
    {
     "data": {
      "text/html": [
       "<div>\n",
       "<style scoped>\n",
       "    .dataframe tbody tr th:only-of-type {\n",
       "        vertical-align: middle;\n",
       "    }\n",
       "\n",
       "    .dataframe tbody tr th {\n",
       "        vertical-align: top;\n",
       "    }\n",
       "\n",
       "    .dataframe thead th {\n",
       "        text-align: right;\n",
       "    }\n",
       "</style>\n",
       "<table border=\"1\" class=\"dataframe\">\n",
       "  <thead>\n",
       "    <tr style=\"text-align: right;\">\n",
       "      <th></th>\n",
       "      <th>crime_rate per 1 million</th>\n",
       "      <th>crime rate per 100,000</th>\n",
       "      <th>annual police funding</th>\n",
       "      <th>25year_4yearsschool</th>\n",
       "      <th>16-19 not high school</th>\n",
       "      <th>18-24 in college</th>\n",
       "      <th>25 years 4 years college</th>\n",
       "    </tr>\n",
       "  </thead>\n",
       "  <tbody>\n",
       "    <tr>\n",
       "      <th>0</th>\n",
       "      <td>478</td>\n",
       "      <td>184</td>\n",
       "      <td>40</td>\n",
       "      <td>74</td>\n",
       "      <td>11</td>\n",
       "      <td>31</td>\n",
       "      <td>20</td>\n",
       "    </tr>\n",
       "    <tr>\n",
       "      <th>1</th>\n",
       "      <td>494</td>\n",
       "      <td>213</td>\n",
       "      <td>32</td>\n",
       "      <td>72</td>\n",
       "      <td>11</td>\n",
       "      <td>43</td>\n",
       "      <td>18</td>\n",
       "    </tr>\n",
       "    <tr>\n",
       "      <th>2</th>\n",
       "      <td>643</td>\n",
       "      <td>347</td>\n",
       "      <td>57</td>\n",
       "      <td>70</td>\n",
       "      <td>18</td>\n",
       "      <td>16</td>\n",
       "      <td>16</td>\n",
       "    </tr>\n",
       "    <tr>\n",
       "      <th>3</th>\n",
       "      <td>341</td>\n",
       "      <td>565</td>\n",
       "      <td>31</td>\n",
       "      <td>71</td>\n",
       "      <td>11</td>\n",
       "      <td>25</td>\n",
       "      <td>19</td>\n",
       "    </tr>\n",
       "    <tr>\n",
       "      <th>4</th>\n",
       "      <td>773</td>\n",
       "      <td>327</td>\n",
       "      <td>67</td>\n",
       "      <td>72</td>\n",
       "      <td>9</td>\n",
       "      <td>29</td>\n",
       "      <td>24</td>\n",
       "    </tr>\n",
       "    <tr>\n",
       "      <th>5</th>\n",
       "      <td>603</td>\n",
       "      <td>260</td>\n",
       "      <td>25</td>\n",
       "      <td>68</td>\n",
       "      <td>8</td>\n",
       "      <td>32</td>\n",
       "      <td>15</td>\n",
       "    </tr>\n",
       "    <tr>\n",
       "      <th>6</th>\n",
       "      <td>484</td>\n",
       "      <td>325</td>\n",
       "      <td>34</td>\n",
       "      <td>68</td>\n",
       "      <td>12</td>\n",
       "      <td>24</td>\n",
       "      <td>14</td>\n",
       "    </tr>\n",
       "    <tr>\n",
       "      <th>7</th>\n",
       "      <td>546</td>\n",
       "      <td>102</td>\n",
       "      <td>33</td>\n",
       "      <td>62</td>\n",
       "      <td>13</td>\n",
       "      <td>28</td>\n",
       "      <td>11</td>\n",
       "    </tr>\n",
       "    <tr>\n",
       "      <th>8</th>\n",
       "      <td>424</td>\n",
       "      <td>38</td>\n",
       "      <td>36</td>\n",
       "      <td>69</td>\n",
       "      <td>7</td>\n",
       "      <td>25</td>\n",
       "      <td>12</td>\n",
       "    </tr>\n",
       "    <tr>\n",
       "      <th>9</th>\n",
       "      <td>548</td>\n",
       "      <td>226</td>\n",
       "      <td>31</td>\n",
       "      <td>66</td>\n",
       "      <td>9</td>\n",
       "      <td>58</td>\n",
       "      <td>15</td>\n",
       "    </tr>\n",
       "    <tr>\n",
       "      <th>10</th>\n",
       "      <td>506</td>\n",
       "      <td>137</td>\n",
       "      <td>35</td>\n",
       "      <td>60</td>\n",
       "      <td>13</td>\n",
       "      <td>21</td>\n",
       "      <td>9</td>\n",
       "    </tr>\n",
       "    <tr>\n",
       "      <th>11</th>\n",
       "      <td>819</td>\n",
       "      <td>369</td>\n",
       "      <td>30</td>\n",
       "      <td>81</td>\n",
       "      <td>4</td>\n",
       "      <td>77</td>\n",
       "      <td>36</td>\n",
       "    </tr>\n",
       "    <tr>\n",
       "      <th>12</th>\n",
       "      <td>541</td>\n",
       "      <td>109</td>\n",
       "      <td>44</td>\n",
       "      <td>66</td>\n",
       "      <td>9</td>\n",
       "      <td>37</td>\n",
       "      <td>12</td>\n",
       "    </tr>\n",
       "    <tr>\n",
       "      <th>13</th>\n",
       "      <td>491</td>\n",
       "      <td>809</td>\n",
       "      <td>32</td>\n",
       "      <td>67</td>\n",
       "      <td>11</td>\n",
       "      <td>37</td>\n",
       "      <td>16</td>\n",
       "    </tr>\n",
       "    <tr>\n",
       "      <th>14</th>\n",
       "      <td>514</td>\n",
       "      <td>29</td>\n",
       "      <td>30</td>\n",
       "      <td>65</td>\n",
       "      <td>12</td>\n",
       "      <td>35</td>\n",
       "      <td>11</td>\n",
       "    </tr>\n",
       "    <tr>\n",
       "      <th>15</th>\n",
       "      <td>371</td>\n",
       "      <td>245</td>\n",
       "      <td>16</td>\n",
       "      <td>64</td>\n",
       "      <td>10</td>\n",
       "      <td>42</td>\n",
       "      <td>14</td>\n",
       "    </tr>\n",
       "    <tr>\n",
       "      <th>16</th>\n",
       "      <td>457</td>\n",
       "      <td>118</td>\n",
       "      <td>29</td>\n",
       "      <td>64</td>\n",
       "      <td>12</td>\n",
       "      <td>21</td>\n",
       "      <td>10</td>\n",
       "    </tr>\n",
       "    <tr>\n",
       "      <th>17</th>\n",
       "      <td>437</td>\n",
       "      <td>148</td>\n",
       "      <td>36</td>\n",
       "      <td>62</td>\n",
       "      <td>7</td>\n",
       "      <td>81</td>\n",
       "      <td>27</td>\n",
       "    </tr>\n",
       "    <tr>\n",
       "      <th>18</th>\n",
       "      <td>570</td>\n",
       "      <td>387</td>\n",
       "      <td>30</td>\n",
       "      <td>59</td>\n",
       "      <td>15</td>\n",
       "      <td>31</td>\n",
       "      <td>16</td>\n",
       "    </tr>\n",
       "    <tr>\n",
       "      <th>19</th>\n",
       "      <td>432</td>\n",
       "      <td>98</td>\n",
       "      <td>23</td>\n",
       "      <td>56</td>\n",
       "      <td>15</td>\n",
       "      <td>50</td>\n",
       "      <td>15</td>\n",
       "    </tr>\n",
       "    <tr>\n",
       "      <th>20</th>\n",
       "      <td>619</td>\n",
       "      <td>608</td>\n",
       "      <td>33</td>\n",
       "      <td>46</td>\n",
       "      <td>22</td>\n",
       "      <td>24</td>\n",
       "      <td>8</td>\n",
       "    </tr>\n",
       "    <tr>\n",
       "      <th>21</th>\n",
       "      <td>357</td>\n",
       "      <td>218</td>\n",
       "      <td>35</td>\n",
       "      <td>54</td>\n",
       "      <td>14</td>\n",
       "      <td>27</td>\n",
       "      <td>13</td>\n",
       "    </tr>\n",
       "    <tr>\n",
       "      <th>22</th>\n",
       "      <td>623</td>\n",
       "      <td>254</td>\n",
       "      <td>38</td>\n",
       "      <td>54</td>\n",
       "      <td>20</td>\n",
       "      <td>22</td>\n",
       "      <td>11</td>\n",
       "    </tr>\n",
       "    <tr>\n",
       "      <th>23</th>\n",
       "      <td>547</td>\n",
       "      <td>697</td>\n",
       "      <td>44</td>\n",
       "      <td>45</td>\n",
       "      <td>26</td>\n",
       "      <td>18</td>\n",
       "      <td>8</td>\n",
       "    </tr>\n",
       "    <tr>\n",
       "      <th>24</th>\n",
       "      <td>792</td>\n",
       "      <td>827</td>\n",
       "      <td>28</td>\n",
       "      <td>57</td>\n",
       "      <td>12</td>\n",
       "      <td>23</td>\n",
       "      <td>11</td>\n",
       "    </tr>\n",
       "    <tr>\n",
       "      <th>25</th>\n",
       "      <td>799</td>\n",
       "      <td>693</td>\n",
       "      <td>35</td>\n",
       "      <td>57</td>\n",
       "      <td>9</td>\n",
       "      <td>60</td>\n",
       "      <td>18</td>\n",
       "    </tr>\n",
       "    <tr>\n",
       "      <th>26</th>\n",
       "      <td>439</td>\n",
       "      <td>448</td>\n",
       "      <td>31</td>\n",
       "      <td>61</td>\n",
       "      <td>19</td>\n",
       "      <td>14</td>\n",
       "      <td>12</td>\n",
       "    </tr>\n",
       "    <tr>\n",
       "      <th>27</th>\n",
       "      <td>867</td>\n",
       "      <td>942</td>\n",
       "      <td>39</td>\n",
       "      <td>52</td>\n",
       "      <td>17</td>\n",
       "      <td>31</td>\n",
       "      <td>10</td>\n",
       "    </tr>\n",
       "    <tr>\n",
       "      <th>28</th>\n",
       "      <td>912</td>\n",
       "      <td>1017</td>\n",
       "      <td>27</td>\n",
       "      <td>44</td>\n",
       "      <td>21</td>\n",
       "      <td>24</td>\n",
       "      <td>9</td>\n",
       "    </tr>\n",
       "    <tr>\n",
       "      <th>29</th>\n",
       "      <td>462</td>\n",
       "      <td>216</td>\n",
       "      <td>36</td>\n",
       "      <td>43</td>\n",
       "      <td>18</td>\n",
       "      <td>23</td>\n",
       "      <td>8</td>\n",
       "    </tr>\n",
       "    <tr>\n",
       "      <th>30</th>\n",
       "      <td>859</td>\n",
       "      <td>673</td>\n",
       "      <td>38</td>\n",
       "      <td>48</td>\n",
       "      <td>19</td>\n",
       "      <td>22</td>\n",
       "      <td>10</td>\n",
       "    </tr>\n",
       "    <tr>\n",
       "      <th>31</th>\n",
       "      <td>805</td>\n",
       "      <td>989</td>\n",
       "      <td>46</td>\n",
       "      <td>57</td>\n",
       "      <td>14</td>\n",
       "      <td>25</td>\n",
       "      <td>12</td>\n",
       "    </tr>\n",
       "    <tr>\n",
       "      <th>32</th>\n",
       "      <td>652</td>\n",
       "      <td>630</td>\n",
       "      <td>29</td>\n",
       "      <td>47</td>\n",
       "      <td>19</td>\n",
       "      <td>25</td>\n",
       "      <td>9</td>\n",
       "    </tr>\n",
       "    <tr>\n",
       "      <th>33</th>\n",
       "      <td>776</td>\n",
       "      <td>404</td>\n",
       "      <td>32</td>\n",
       "      <td>50</td>\n",
       "      <td>19</td>\n",
       "      <td>21</td>\n",
       "      <td>9</td>\n",
       "    </tr>\n",
       "    <tr>\n",
       "      <th>34</th>\n",
       "      <td>919</td>\n",
       "      <td>692</td>\n",
       "      <td>39</td>\n",
       "      <td>48</td>\n",
       "      <td>16</td>\n",
       "      <td>32</td>\n",
       "      <td>11</td>\n",
       "    </tr>\n",
       "    <tr>\n",
       "      <th>35</th>\n",
       "      <td>732</td>\n",
       "      <td>1517</td>\n",
       "      <td>44</td>\n",
       "      <td>49</td>\n",
       "      <td>13</td>\n",
       "      <td>31</td>\n",
       "      <td>14</td>\n",
       "    </tr>\n",
       "    <tr>\n",
       "      <th>36</th>\n",
       "      <td>657</td>\n",
       "      <td>879</td>\n",
       "      <td>33</td>\n",
       "      <td>72</td>\n",
       "      <td>13</td>\n",
       "      <td>13</td>\n",
       "      <td>22</td>\n",
       "    </tr>\n",
       "    <tr>\n",
       "      <th>37</th>\n",
       "      <td>1419</td>\n",
       "      <td>631</td>\n",
       "      <td>43</td>\n",
       "      <td>59</td>\n",
       "      <td>14</td>\n",
       "      <td>21</td>\n",
       "      <td>13</td>\n",
       "    </tr>\n",
       "    <tr>\n",
       "      <th>38</th>\n",
       "      <td>989</td>\n",
       "      <td>1375</td>\n",
       "      <td>22</td>\n",
       "      <td>49</td>\n",
       "      <td>9</td>\n",
       "      <td>46</td>\n",
       "      <td>13</td>\n",
       "    </tr>\n",
       "    <tr>\n",
       "      <th>39</th>\n",
       "      <td>821</td>\n",
       "      <td>1139</td>\n",
       "      <td>30</td>\n",
       "      <td>54</td>\n",
       "      <td>13</td>\n",
       "      <td>27</td>\n",
       "      <td>12</td>\n",
       "    </tr>\n",
       "    <tr>\n",
       "      <th>40</th>\n",
       "      <td>1740</td>\n",
       "      <td>3545</td>\n",
       "      <td>86</td>\n",
       "      <td>62</td>\n",
       "      <td>22</td>\n",
       "      <td>18</td>\n",
       "      <td>15</td>\n",
       "    </tr>\n",
       "    <tr>\n",
       "      <th>41</th>\n",
       "      <td>815</td>\n",
       "      <td>706</td>\n",
       "      <td>30</td>\n",
       "      <td>47</td>\n",
       "      <td>17</td>\n",
       "      <td>39</td>\n",
       "      <td>11</td>\n",
       "    </tr>\n",
       "    <tr>\n",
       "      <th>42</th>\n",
       "      <td>760</td>\n",
       "      <td>451</td>\n",
       "      <td>32</td>\n",
       "      <td>45</td>\n",
       "      <td>34</td>\n",
       "      <td>15</td>\n",
       "      <td>10</td>\n",
       "    </tr>\n",
       "    <tr>\n",
       "      <th>43</th>\n",
       "      <td>936</td>\n",
       "      <td>433</td>\n",
       "      <td>43</td>\n",
       "      <td>48</td>\n",
       "      <td>26</td>\n",
       "      <td>23</td>\n",
       "      <td>12</td>\n",
       "    </tr>\n",
       "    <tr>\n",
       "      <th>44</th>\n",
       "      <td>863</td>\n",
       "      <td>601</td>\n",
       "      <td>20</td>\n",
       "      <td>69</td>\n",
       "      <td>23</td>\n",
       "      <td>7</td>\n",
       "      <td>12</td>\n",
       "    </tr>\n",
       "    <tr>\n",
       "      <th>45</th>\n",
       "      <td>783</td>\n",
       "      <td>1024</td>\n",
       "      <td>55</td>\n",
       "      <td>42</td>\n",
       "      <td>23</td>\n",
       "      <td>23</td>\n",
       "      <td>11</td>\n",
       "    </tr>\n",
       "    <tr>\n",
       "      <th>46</th>\n",
       "      <td>715</td>\n",
       "      <td>457</td>\n",
       "      <td>44</td>\n",
       "      <td>49</td>\n",
       "      <td>18</td>\n",
       "      <td>30</td>\n",
       "      <td>12</td>\n",
       "    </tr>\n",
       "    <tr>\n",
       "      <th>47</th>\n",
       "      <td>1504</td>\n",
       "      <td>1441</td>\n",
       "      <td>37</td>\n",
       "      <td>57</td>\n",
       "      <td>15</td>\n",
       "      <td>35</td>\n",
       "      <td>13</td>\n",
       "    </tr>\n",
       "    <tr>\n",
       "      <th>48</th>\n",
       "      <td>1324</td>\n",
       "      <td>1022</td>\n",
       "      <td>82</td>\n",
       "      <td>72</td>\n",
       "      <td>22</td>\n",
       "      <td>15</td>\n",
       "      <td>16</td>\n",
       "    </tr>\n",
       "    <tr>\n",
       "      <th>49</th>\n",
       "      <td>940</td>\n",
       "      <td>1244</td>\n",
       "      <td>66</td>\n",
       "      <td>67</td>\n",
       "      <td>26</td>\n",
       "      <td>18</td>\n",
       "      <td>16</td>\n",
       "    </tr>\n",
       "  </tbody>\n",
       "</table>\n",
       "</div>"
      ],
      "text/plain": [
       "    crime_rate per 1 million  crime rate per 100,000  annual police funding  \\\n",
       "0                        478                     184                     40   \n",
       "1                        494                     213                     32   \n",
       "2                        643                     347                     57   \n",
       "3                        341                     565                     31   \n",
       "4                        773                     327                     67   \n",
       "5                        603                     260                     25   \n",
       "6                        484                     325                     34   \n",
       "7                        546                     102                     33   \n",
       "8                        424                      38                     36   \n",
       "9                        548                     226                     31   \n",
       "10                       506                     137                     35   \n",
       "11                       819                     369                     30   \n",
       "12                       541                     109                     44   \n",
       "13                       491                     809                     32   \n",
       "14                       514                      29                     30   \n",
       "15                       371                     245                     16   \n",
       "16                       457                     118                     29   \n",
       "17                       437                     148                     36   \n",
       "18                       570                     387                     30   \n",
       "19                       432                      98                     23   \n",
       "20                       619                     608                     33   \n",
       "21                       357                     218                     35   \n",
       "22                       623                     254                     38   \n",
       "23                       547                     697                     44   \n",
       "24                       792                     827                     28   \n",
       "25                       799                     693                     35   \n",
       "26                       439                     448                     31   \n",
       "27                       867                     942                     39   \n",
       "28                       912                    1017                     27   \n",
       "29                       462                     216                     36   \n",
       "30                       859                     673                     38   \n",
       "31                       805                     989                     46   \n",
       "32                       652                     630                     29   \n",
       "33                       776                     404                     32   \n",
       "34                       919                     692                     39   \n",
       "35                       732                    1517                     44   \n",
       "36                       657                     879                     33   \n",
       "37                      1419                     631                     43   \n",
       "38                       989                    1375                     22   \n",
       "39                       821                    1139                     30   \n",
       "40                      1740                    3545                     86   \n",
       "41                       815                     706                     30   \n",
       "42                       760                     451                     32   \n",
       "43                       936                     433                     43   \n",
       "44                       863                     601                     20   \n",
       "45                       783                    1024                     55   \n",
       "46                       715                     457                     44   \n",
       "47                      1504                    1441                     37   \n",
       "48                      1324                    1022                     82   \n",
       "49                       940                    1244                     66   \n",
       "\n",
       "    25year_4yearsschool  16-19 not high school  18-24 in college  \\\n",
       "0                    74                     11                31   \n",
       "1                    72                     11                43   \n",
       "2                    70                     18                16   \n",
       "3                    71                     11                25   \n",
       "4                    72                      9                29   \n",
       "5                    68                      8                32   \n",
       "6                    68                     12                24   \n",
       "7                    62                     13                28   \n",
       "8                    69                      7                25   \n",
       "9                    66                      9                58   \n",
       "10                   60                     13                21   \n",
       "11                   81                      4                77   \n",
       "12                   66                      9                37   \n",
       "13                   67                     11                37   \n",
       "14                   65                     12                35   \n",
       "15                   64                     10                42   \n",
       "16                   64                     12                21   \n",
       "17                   62                      7                81   \n",
       "18                   59                     15                31   \n",
       "19                   56                     15                50   \n",
       "20                   46                     22                24   \n",
       "21                   54                     14                27   \n",
       "22                   54                     20                22   \n",
       "23                   45                     26                18   \n",
       "24                   57                     12                23   \n",
       "25                   57                      9                60   \n",
       "26                   61                     19                14   \n",
       "27                   52                     17                31   \n",
       "28                   44                     21                24   \n",
       "29                   43                     18                23   \n",
       "30                   48                     19                22   \n",
       "31                   57                     14                25   \n",
       "32                   47                     19                25   \n",
       "33                   50                     19                21   \n",
       "34                   48                     16                32   \n",
       "35                   49                     13                31   \n",
       "36                   72                     13                13   \n",
       "37                   59                     14                21   \n",
       "38                   49                      9                46   \n",
       "39                   54                     13                27   \n",
       "40                   62                     22                18   \n",
       "41                   47                     17                39   \n",
       "42                   45                     34                15   \n",
       "43                   48                     26                23   \n",
       "44                   69                     23                 7   \n",
       "45                   42                     23                23   \n",
       "46                   49                     18                30   \n",
       "47                   57                     15                35   \n",
       "48                   72                     22                15   \n",
       "49                   67                     26                18   \n",
       "\n",
       "    25 years 4 years college  \n",
       "0                         20  \n",
       "1                         18  \n",
       "2                         16  \n",
       "3                         19  \n",
       "4                         24  \n",
       "5                         15  \n",
       "6                         14  \n",
       "7                         11  \n",
       "8                         12  \n",
       "9                         15  \n",
       "10                         9  \n",
       "11                        36  \n",
       "12                        12  \n",
       "13                        16  \n",
       "14                        11  \n",
       "15                        14  \n",
       "16                        10  \n",
       "17                        27  \n",
       "18                        16  \n",
       "19                        15  \n",
       "20                         8  \n",
       "21                        13  \n",
       "22                        11  \n",
       "23                         8  \n",
       "24                        11  \n",
       "25                        18  \n",
       "26                        12  \n",
       "27                        10  \n",
       "28                         9  \n",
       "29                         8  \n",
       "30                        10  \n",
       "31                        12  \n",
       "32                         9  \n",
       "33                         9  \n",
       "34                        11  \n",
       "35                        14  \n",
       "36                        22  \n",
       "37                        13  \n",
       "38                        13  \n",
       "39                        12  \n",
       "40                        15  \n",
       "41                        11  \n",
       "42                        10  \n",
       "43                        12  \n",
       "44                        12  \n",
       "45                        11  \n",
       "46                        12  \n",
       "47                        13  \n",
       "48                        16  \n",
       "49                        16  "
      ]
     },
     "execution_count": 278,
     "metadata": {},
     "output_type": "execute_result"
    }
   ],
   "source": [
    "df2"
   ]
  },
  {
   "cell_type": "markdown",
   "metadata": {},
   "source": [
    "# Train test split , Remove  X2"
   ]
  },
  {
   "cell_type": "code",
   "execution_count": 279,
   "metadata": {},
   "outputs": [],
   "source": [
    "from sklearn.model_selection import train_test_split"
   ]
  },
  {
   "cell_type": "code",
   "execution_count": 289,
   "metadata": {},
   "outputs": [],
   "source": [
    "X_train, X_test, Y_train,Y_test = train_test_split(df[['X3','X4','X5','X6','X7']],df['X1'],test_size = 0.2,random_state = 0)"
   ]
  },
  {
   "cell_type": "code",
   "execution_count": 290,
   "metadata": {},
   "outputs": [],
   "source": [
    "# 1. Set up the model"
   ]
  },
  {
   "cell_type": "code",
   "execution_count": 291,
   "metadata": {},
   "outputs": [],
   "source": [
    "model = LinearRegression()"
   ]
  },
  {
   "cell_type": "code",
   "execution_count": 292,
   "metadata": {},
   "outputs": [],
   "source": [
    "# 2. Use fit"
   ]
  },
  {
   "cell_type": "code",
   "execution_count": 293,
   "metadata": {},
   "outputs": [
    {
     "data": {
      "text/plain": [
       "LinearRegression(copy_X=True, fit_intercept=True, n_jobs=1, normalize=False)"
      ]
     },
     "execution_count": 293,
     "metadata": {},
     "output_type": "execute_result"
    }
   ],
   "source": [
    "model.fit(X_train,Y_train)"
   ]
  },
  {
   "cell_type": "code",
   "execution_count": 294,
   "metadata": {},
   "outputs": [],
   "source": [
    "# 3. check the score"
   ]
  },
  {
   "cell_type": "code",
   "execution_count": 295,
   "metadata": {},
   "outputs": [
    {
     "data": {
      "text/plain": [
       "-3.3960112127678586"
      ]
     },
     "execution_count": 295,
     "metadata": {},
     "output_type": "execute_result"
    }
   ],
   "source": [
    "model.score(X_test,Y_test)"
   ]
  },
  {
   "cell_type": "code",
   "execution_count": 296,
   "metadata": {},
   "outputs": [],
   "source": [
    "# coefficients"
   ]
  },
  {
   "cell_type": "code",
   "execution_count": 297,
   "metadata": {},
   "outputs": [
    {
     "data": {
      "text/plain": [
       "array([13.78393666, -1.9795136 ,  3.74654069, -1.79423596, -1.53659319])"
      ]
     },
     "execution_count": 297,
     "metadata": {},
     "output_type": "execute_result"
    }
   ],
   "source": [
    "model.coef_"
   ]
  },
  {
   "cell_type": "code",
   "execution_count": 298,
   "metadata": {},
   "outputs": [
    {
     "data": {
      "text/plain": [
       "318.46098742268396"
      ]
     },
     "execution_count": 298,
     "metadata": {},
     "output_type": "execute_result"
    }
   ],
   "source": [
    "model.intercept_"
   ]
  },
  {
   "cell_type": "code",
   "execution_count": 299,
   "metadata": {},
   "outputs": [],
   "source": [
    "# Make predictions"
   ]
  },
  {
   "cell_type": "code",
   "execution_count": 300,
   "metadata": {},
   "outputs": [],
   "source": [
    "Y_pred = model.predict(X_test)"
   ]
  },
  {
   "cell_type": "code",
   "execution_count": 301,
   "metadata": {},
   "outputs": [],
   "source": [
    "# Mean Squared error"
   ]
  },
  {
   "cell_type": "code",
   "execution_count": 302,
   "metadata": {},
   "outputs": [
    {
     "data": {
      "text/plain": [
       "83681.41440355791"
      ]
     },
     "execution_count": 302,
     "metadata": {},
     "output_type": "execute_result"
    }
   ],
   "source": [
    "mean_squared_error(Y_test,Y_pred)"
   ]
  },
  {
   "cell_type": "code",
   "execution_count": 303,
   "metadata": {},
   "outputs": [],
   "source": [
    "# variance score same as model score"
   ]
  },
  {
   "cell_type": "code",
   "execution_count": 304,
   "metadata": {},
   "outputs": [
    {
     "data": {
      "text/plain": [
       "-3.396011212767859"
      ]
     },
     "execution_count": 304,
     "metadata": {},
     "output_type": "execute_result"
    }
   ],
   "source": [
    "r2_score(Y_test,Y_pred)"
   ]
  },
  {
   "cell_type": "code",
   "execution_count": 305,
   "metadata": {},
   "outputs": [],
   "source": [
    "# Plot actual values and predicted values "
   ]
  },
  {
   "cell_type": "code",
   "execution_count": 306,
   "metadata": {},
   "outputs": [
    {
     "data": {
      "image/png": "[encoded data removed]",
      "text/plain": [
       "<matplotlib.figure.Figure at 0x7f9fd449f390>"
      ]
     },
     "metadata": {},
     "output_type": "display_data"
    }
   ],
   "source": [
    "plt.scatter(Y_test,Y_pred)\n",
    "plt.title(\"Y_test vs Y_predicted\")\n",
    "plt.xlabel(\"Y_test\")\n",
    "plt.ylabel(\"Y_predicted\")\n",
    "plt.grid('on')\n",
    "plt.show()"
   ]
  },
  {
   "cell_type": "code",
   "execution_count": 307,
   "metadata": {},
   "outputs": [],
   "source": [
    "# correlation coefficients"
   ]
  },
  {
   "cell_type": "code",
   "execution_count": 310,
   "metadata": {},
   "outputs": [
    {
     "data": {
      "text/html": [
       "<div>\n",
       "<style scoped>\n",
       "    .dataframe tbody tr th:only-of-type {\n",
       "        vertical-align: middle;\n",
       "    }\n",
       "\n",
       "    .dataframe tbody tr th {\n",
       "        vertical-align: top;\n",
       "    }\n",
       "\n",
       "    .dataframe thead th {\n",
       "        text-align: right;\n",
       "    }\n",
       "</style>\n",
       "<table border=\"1\" class=\"dataframe\">\n",
       "  <thead>\n",
       "    <tr style=\"text-align: right;\">\n",
       "      <th></th>\n",
       "      <th>X1</th>\n",
       "      <th>X2</th>\n",
       "      <th>X3</th>\n",
       "      <th>X4</th>\n",
       "      <th>X5</th>\n",
       "      <th>X6</th>\n",
       "      <th>X7</th>\n",
       "    </tr>\n",
       "  </thead>\n",
       "  <tbody>\n",
       "    <tr>\n",
       "      <th>X1</th>\n",
       "      <td>1.000000</td>\n",
       "      <td>0.756505</td>\n",
       "      <td>0.533198</td>\n",
       "      <td>-0.135459</td>\n",
       "      <td>0.322519</td>\n",
       "      <td>-0.175224</td>\n",
       "      <td>-0.026283</td>\n",
       "    </tr>\n",
       "    <tr>\n",
       "      <th>X2</th>\n",
       "      <td>0.756505</td>\n",
       "      <td>1.000000</td>\n",
       "      <td>0.509339</td>\n",
       "      <td>-0.184445</td>\n",
       "      <td>0.291031</td>\n",
       "      <td>-0.199070</td>\n",
       "      <td>-0.045570</td>\n",
       "    </tr>\n",
       "    <tr>\n",
       "      <th>X3</th>\n",
       "      <td>0.533198</td>\n",
       "      <td>0.509339</td>\n",
       "      <td>1.000000</td>\n",
       "      <td>0.120265</td>\n",
       "      <td>0.311526</td>\n",
       "      <td>-0.277475</td>\n",
       "      <td>0.124502</td>\n",
       "    </tr>\n",
       "    <tr>\n",
       "      <th>X4</th>\n",
       "      <td>-0.135459</td>\n",
       "      <td>-0.184445</td>\n",
       "      <td>0.120265</td>\n",
       "      <td>1.000000</td>\n",
       "      <td>-0.537162</td>\n",
       "      <td>0.182364</td>\n",
       "      <td>0.681072</td>\n",
       "    </tr>\n",
       "    <tr>\n",
       "      <th>X5</th>\n",
       "      <td>0.322519</td>\n",
       "      <td>0.291031</td>\n",
       "      <td>0.311526</td>\n",
       "      <td>-0.537162</td>\n",
       "      <td>1.000000</td>\n",
       "      <td>-0.626953</td>\n",
       "      <td>-0.513958</td>\n",
       "    </tr>\n",
       "    <tr>\n",
       "      <th>X6</th>\n",
       "      <td>-0.175224</td>\n",
       "      <td>-0.199070</td>\n",
       "      <td>-0.277475</td>\n",
       "      <td>0.182364</td>\n",
       "      <td>-0.626953</td>\n",
       "      <td>1.000000</td>\n",
       "      <td>0.591663</td>\n",
       "    </tr>\n",
       "    <tr>\n",
       "      <th>X7</th>\n",
       "      <td>-0.026283</td>\n",
       "      <td>-0.045570</td>\n",
       "      <td>0.124502</td>\n",
       "      <td>0.681072</td>\n",
       "      <td>-0.513958</td>\n",
       "      <td>0.591663</td>\n",
       "      <td>1.000000</td>\n",
       "    </tr>\n",
       "  </tbody>\n",
       "</table>\n",
       "</div>"
      ],
      "text/plain": [
       "          X1        X2        X3        X4        X5        X6        X7\n",
       "X1  1.000000  0.756505  0.533198 -0.135459  0.322519 -0.175224 -0.026283\n",
       "X2  0.756505  1.000000  0.509339 -0.184445  0.291031 -0.199070 -0.045570\n",
       "X3  0.533198  0.509339  1.000000  0.120265  0.311526 -0.277475  0.124502\n",
       "X4 -0.135459 -0.184445  0.120265  1.000000 -0.537162  0.182364  0.681072\n",
       "X5  0.322519  0.291031  0.311526 -0.537162  1.000000 -0.626953 -0.513958\n",
       "X6 -0.175224 -0.199070 -0.277475  0.182364 -0.626953  1.000000  0.591663\n",
       "X7 -0.026283 -0.045570  0.124502  0.681072 -0.513958  0.591663  1.000000"
      ]
     },
     "execution_count": 310,
     "metadata": {},
     "output_type": "execute_result"
    }
   ],
   "source": [
    "df.corr(method = 'pearson')"
   ]
  },
  {
   "cell_type": "markdown",
   "metadata": {},
   "source": [
    "# Remove X7"
   ]
  },
  {
   "cell_type": "code",
   "execution_count": 324,
   "metadata": {},
   "outputs": [
    {
     "data": {
      "text/plain": [
       "-3.3478484958251267"
      ]
     },
     "execution_count": 324,
     "metadata": {},
     "output_type": "execute_result"
    }
   ],
   "source": [
    "X_train2, X_test2, Y_train2,Y_test2 = train_test_split(df[['X3','X4','X5','X6']],df['X1'],test_size = 0.2,random_state = 0)\n",
    "model2 = LinearRegression()\n",
    "model2.fit(X_train2,Y_train2)\n",
    "model2.score(X_test2,Y_test2)"
   ]
  },
  {
   "cell_type": "code",
   "execution_count": 329,
   "metadata": {},
   "outputs": [],
   "source": [
    "Y_pred2 = model2.predict(X_test2)"
   ]
  },
  {
   "cell_type": "code",
   "execution_count": 339,
   "metadata": {},
   "outputs": [
    {
     "data": {
      "image/png": "[encoded data removed]",
      "text/plain": [
       "<matplotlib.figure.Figure at 0x7f9fd44b7908>"
      ]
     },
     "metadata": {},
     "output_type": "display_data"
    }
   ],
   "source": [
    "plt.scatter(Y_test2,Y_pred2)\n",
    "plt.title(\"Y_test vs Y_predicted\")\n",
    "plt.xlabel(\"Y_test\")\n",
    "plt.ylabel(\"Y_predicted\")\n",
    "plt.grid('on')\n",
    "plt.show()"
   ]
  },
  {
   "cell_type": "code",
   "execution_count": 371,
   "metadata": {},
   "outputs": [],
   "source": [
    "# Correlation Heat map"
   ]
  },
  {
   "cell_type": "code",
   "execution_count": 325,
   "metadata": {},
   "outputs": [
    {
     "data": {
      "text/plain": [
       "<matplotlib.axes._subplots.AxesSubplot at 0x7f9fd4749a90>"
      ]
     },
     "execution_count": 325,
     "metadata": {},
     "output_type": "execute_result"
    },
    {
     "data": {
      "image/png": "[encoded data removed]",
      "text/plain": [
       "<matplotlib.figure.Figure at 0x7f9fd4749320>"
      ]
     },
     "metadata": {},
     "output_type": "display_data"
    }
   ],
   "source": [
    "sns.heatmap(df2.corr())"
   ]
  },
  {
   "cell_type": "code",
   "execution_count": 372,
   "metadata": {},
   "outputs": [],
   "source": [
    "# Distribution Plot"
   ]
  },
  {
   "cell_type": "code",
   "execution_count": 316,
   "metadata": {},
   "outputs": [
    {
     "data": {
      "text/plain": [
       "<matplotlib.axes._subplots.AxesSubplot at 0x7f9fd4594dd8>"
      ]
     },
     "execution_count": 316,
     "metadata": {},
     "output_type": "execute_result"
    },
    {
     "data": {
      "image/png": "[encoded data removed]",
      "text/plain": [
       "<matplotlib.figure.Figure at 0x7f9fd1594470>"
      ]
     },
     "metadata": {},
     "output_type": "display_data"
    }
   ],
   "source": [
    "sns.distplot(Y_test-Y_pred)"
   ]
  },
  {
   "cell_type": "code",
   "execution_count": 373,
   "metadata": {},
   "outputs": [],
   "source": [
    "# Do Not Remove X2 or X7"
   ]
  },
  {
   "cell_type": "code",
   "execution_count": 319,
   "metadata": {},
   "outputs": [],
   "source": [
    "X_train3, X_test3, Y_train3,Y_test3 = train_test_split(df[['X2','X3','X4','X5','X6','X7']],df['X1'],test_size = 0.2,random_state = 0)"
   ]
  },
  {
   "cell_type": "code",
   "execution_count": 322,
   "metadata": {},
   "outputs": [
    {
     "data": {
      "text/plain": [
       "-0.5132879785827147"
      ]
     },
     "execution_count": 322,
     "metadata": {},
     "output_type": "execute_result"
    }
   ],
   "source": [
    "model3 = LinearRegression()\n",
    "model3.fit(X_train3,Y_train3)\n",
    "model3.score(X_test3,Y_test3)"
   ]
  },
  {
   "cell_type": "code",
   "execution_count": 327,
   "metadata": {},
   "outputs": [],
   "source": [
    "Y_pred3 = model3.predict(X_test3)"
   ]
  },
  {
   "cell_type": "code",
   "execution_count": 338,
   "metadata": {},
   "outputs": [
    {
     "data": {
      "image/png": "[encoded data removed]",
      "text/plain": [
       "<matplotlib.figure.Figure at 0x7f9fd45a5c88>"
      ]
     },
     "metadata": {},
     "output_type": "display_data"
    }
   ],
   "source": [
    "plt.scatter(Y_test3,Y_pred3)\n",
    "plt.title(\"Y_test vs Y_predicted\")\n",
    "plt.xlabel(\"Y_test\")\n",
    "plt.ylabel(\"Y_predicted\")\n",
    "plt.grid('on')\n",
    "plt.show()"
   ]
  },
  {
   "cell_type": "markdown",
   "metadata": {},
   "source": [
    "# plot histogram X1"
   ]
  },
  {
   "cell_type": "code",
   "execution_count": 331,
   "metadata": {},
   "outputs": [
    {
     "data": {
      "text/plain": [
       "(array([10., 12.,  7., 12.,  5.,  0.,  0.,  2.,  1.,  1.]),\n",
       " array([ 341. ,  480.9,  620.8,  760.7,  900.6, 1040.5, 1180.4, 1320.3,\n",
       "        1460.2, 1600.1, 1740. ]),\n",
       " <a list of 10 Patch objects>)"
      ]
     },
     "execution_count": 331,
     "metadata": {},
     "output_type": "execute_result"
    },
    {
     "data": {
      "image/png": "[encoded data removed]",
      "text/plain": [
       "<matplotlib.figure.Figure at 0x7f9fd01905f8>"
      ]
     },
     "metadata": {},
     "output_type": "display_data"
    }
   ],
   "source": [
    "plt.hist(df['X1'])"
   ]
  },
  {
   "cell_type": "markdown",
   "metadata": {},
   "source": [
    "# Remove Outliers X1 (95 %) and plot Y_test and Y_pred"
   ]
  },
  {
   "cell_type": "code",
   "execution_count": 349,
   "metadata": {},
   "outputs": [],
   "source": [
    "elements = np.array(df['X1'])"
   ]
  },
  {
   "cell_type": "code",
   "execution_count": 350,
   "metadata": {},
   "outputs": [],
   "source": [
    "mean = np.mean(df['X1'])"
   ]
  },
  {
   "cell_type": "code",
   "execution_count": 352,
   "metadata": {},
   "outputs": [],
   "source": [
    "sd = np.std(df['X1'])"
   ]
  },
  {
   "cell_type": "code",
   "execution_count": 353,
   "metadata": {},
   "outputs": [
    {
     "data": {
      "text/plain": [
       "290.98453292228436"
      ]
     },
     "execution_count": 353,
     "metadata": {},
     "output_type": "execute_result"
    }
   ],
   "source": [
    "sd"
   ]
  },
  {
   "cell_type": "code",
   "execution_count": 363,
   "metadata": {},
   "outputs": [],
   "source": [
    "df7 = df[df['X1'] > mean - 2*sd]"
   ]
  },
  {
   "cell_type": "code",
   "execution_count": 364,
   "metadata": {},
   "outputs": [],
   "source": [
    "df8 = df7[df7['X1'] < mean + 2*sd]"
   ]
  },
  {
   "cell_type": "code",
   "execution_count": 366,
   "metadata": {},
   "outputs": [],
   "source": [
    "X_train8, X_test8, Y_train8,Y_test8 = train_test_split(df8[['X2','X3','X4','X5','X6','X7']],df8['X1'],test_size = 0.2,random_state = 0)"
   ]
  },
  {
   "cell_type": "code",
   "execution_count": 367,
   "metadata": {},
   "outputs": [
    {
     "data": {
      "text/plain": [
       "-1.453817719739475"
      ]
     },
     "execution_count": 367,
     "metadata": {},
     "output_type": "execute_result"
    }
   ],
   "source": [
    "model8 = LinearRegression()\n",
    "model8.fit(X_train8,Y_train8)\n",
    "model8.score(X_test8,Y_test8)"
   ]
  },
  {
   "cell_type": "code",
   "execution_count": 369,
   "metadata": {},
   "outputs": [],
   "source": [
    "Y_pred8 = model8.predict(X_test8)\n"
   ]
  },
  {
   "cell_type": "code",
   "execution_count": 370,
   "metadata": {},
   "outputs": [
    {
     "data": {
      "image/png": "[encoded data removed]",
      "text/plain": [
       "<matplotlib.figure.Figure at 0x7f9fa4f1bfd0>"
      ]
     },
     "metadata": {},
     "output_type": "display_data"
    }
   ],
   "source": [
    "plt.scatter(Y_test8,Y_pred8)\n",
    "plt.title(\"Y_test vs Y_predicted\")\n",
    "plt.xlabel(\"Y_test\")\n",
    "plt.ylabel(\"Y_predicted\")\n",
    "plt.grid('on')\n",
    "plt.show()"
   ]
  },
  {
   "cell_type": "markdown",
   "metadata": {},
   "source": [
    "# Remove X7 not X2"
   ]
  },
  {
   "cell_type": "code",
   "execution_count": 379,
   "metadata": {},
   "outputs": [],
   "source": [
    "X_train9, X_test9, Y_train9,Y_test9 = train_test_split(df[['X2','X3','X4','X5','X6']],df['X1'],test_size = 0.2,random_state = 0)"
   ]
  },
  {
   "cell_type": "code",
   "execution_count": 380,
   "metadata": {},
   "outputs": [
    {
     "data": {
      "text/plain": [
       "0.14530691959727782"
      ]
     },
     "execution_count": 380,
     "metadata": {},
     "output_type": "execute_result"
    }
   ],
   "source": [
    "model9 = LinearRegression()\n",
    "model9.fit(X_train9,Y_train9)\n",
    "model9.score(X_test9,Y_test9)"
   ]
  },
  {
   "cell_type": "code",
   "execution_count": 381,
   "metadata": {},
   "outputs": [],
   "source": [
    "Y_pred9 = model9.predict(X_test9)"
   ]
  },
  {
   "cell_type": "code",
   "execution_count": 382,
   "metadata": {},
   "outputs": [
    {
     "data": {
      "image/png": "[encoded data removed]",
      "text/plain": [
       "<matplotlib.figure.Figure at 0x7f9fa4f1b1d0>"
      ]
     },
     "metadata": {},
     "output_type": "display_data"
    }
   ],
   "source": [
    "plt.scatter(Y_test9,Y_pred9)\n",
    "plt.title(\"Y_test vs Y_predicted\")\n",
    "plt.xlabel(\"Y_test\")\n",
    "plt.ylabel(\"Y_predicted\")\n",
    "plt.grid('on')\n",
    "plt.show()"
   ]
  },
  {
   "cell_type": "markdown",
   "metadata": {},
   "source": [
    "# Remove X7 and X4"
   ]
  },
  {
   "cell_type": "code",
   "execution_count": 383,
   "metadata": {},
   "outputs": [],
   "source": [
    "X_train5, X_test5, Y_train5,Y_test5 = train_test_split(df[['X2','X3','X5','X6']],df['X1'],test_size = 0.2,random_state = 0)"
   ]
  },
  {
   "cell_type": "code",
   "execution_count": 384,
   "metadata": {},
   "outputs": [
    {
     "data": {
      "text/plain": [
       "0.1426840814131588"
      ]
     },
     "execution_count": 384,
     "metadata": {},
     "output_type": "execute_result"
    }
   ],
   "source": [
    "model5 = LinearRegression()\n",
    "model5.fit(X_train5,Y_train5)\n",
    "model5.score(X_test5,Y_test5)"
   ]
  },
  {
   "cell_type": "code",
   "execution_count": 385,
   "metadata": {},
   "outputs": [],
   "source": [
    "Y_pred5 = model5.predict(X_test5)"
   ]
  },
  {
   "cell_type": "code",
   "execution_count": 386,
   "metadata": {},
   "outputs": [
    {
     "data": {
      "image/png": "[encoded data removed]",
      "text/plain": [
       "<matplotlib.figure.Figure at 0x7f9fa4f1b390>"
      ]
     },
     "metadata": {},
     "output_type": "display_data"
    }
   ],
   "source": [
    "plt.scatter(Y_test5,Y_pred5)\n",
    "plt.title(\"Y_test vs Y_predicted\")\n",
    "plt.xlabel(\"Y_test\")\n",
    "plt.ylabel(\"Y_predicted\")\n",
    "plt.grid('on')\n",
    "plt.show()"
   ]
  },
  {
   "cell_type": "code",
   "execution_count": null,
   "metadata": {},
   "outputs": [],
   "source": []
  }
 ],
 "metadata": {
  "kernelspec": {
   "display_name": "Python 3",
   "language": "python",
   "name": "python3"
  },
  "language_info": {
   "codemirror_mode": {
    "name": "ipython",
    "version": 3
   },
   "file_extension": ".py",
   "mimetype": "text/x-python",
   "name": "python",
   "nbconvert_exporter": "python",
   "pygments_lexer": "ipython3",
   "version": "3.6.5"
  }
 },
 "nbformat": 4,
 "nbformat_minor": 2
}
