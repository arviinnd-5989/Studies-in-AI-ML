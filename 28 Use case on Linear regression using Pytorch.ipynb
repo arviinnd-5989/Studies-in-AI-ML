{
 "cells": [
  {
   "cell_type": "markdown",
   "metadata": {},
   "source": [
    "# Import libraries"
   ]
  },
  {
   "cell_type": "markdown",
   "metadata": {},
   "source": [
    "# Summary"
   ]
  },
  {
   "cell_type": "markdown",
   "metadata": {},
   "source": [
    "This is a use case on linear regression using pytorch. We generate x_train and y_train values and define a linear regression model by inheriting from the base class. We create an instance of the model, define learning rate, optimizer, loss function and train the model for 100 epochs. We calculate the outputs and compare with the original values."
   ]
  },
  {
   "cell_type": "code",
   "execution_count": 1,
   "metadata": {},
   "outputs": [],
   "source": [
    "from scipy import stats\n",
    "import numpy as np"
   ]
  },
  {
   "cell_type": "code",
   "execution_count": 2,
   "metadata": {},
   "outputs": [],
   "source": [
    "import matplotlib.pyplot as plt"
   ]
  },
  {
   "cell_type": "code",
   "execution_count": 3,
   "metadata": {},
   "outputs": [],
   "source": [
    "np.random.seed(1)\n",
    "n = 50\n",
    "x = np.random.randn(n)\n",
    "y = np.random.randn(n)"
   ]
  },
  {
   "cell_type": "code",
   "execution_count": 13,
   "metadata": {},
   "outputs": [
    {
     "data": {
      "text/plain": [
       "<matplotlib.collections.PathCollection at 0x7f8f96d1d320>"
      ]
     },
     "execution_count": 13,
     "metadata": {},
     "output_type": "execute_result"
    },
    {
     "data": {
      "image/png": "[encoded data removed]",
      "text/plain": [
       "<Figure size 432x288 with 1 Axes>"
      ]
     },
     "metadata": {},
     "output_type": "display_data"
    }
   ],
   "source": [
    "colors = np.random.randn(n)\n",
    "plt.plot(np.unique(x),np.poly1d(np.polyfit(x,y,1))(np.unique(x)))\n",
    "plt.scatter(x,y,c =colors,alpha = 2)"
   ]
  },
  {
   "cell_type": "markdown",
   "metadata": {},
   "source": [
    "# X_train and y_train values"
   ]
  },
  {
   "cell_type": "code",
   "execution_count": 16,
   "metadata": {},
   "outputs": [],
   "source": [
    "x_values = [i for i in range(11)]"
   ]
  },
  {
   "cell_type": "code",
   "execution_count": 17,
   "metadata": {},
   "outputs": [
    {
     "data": {
      "text/plain": [
       "[0, 1, 2, 3, 4, 5, 6, 7, 8, 9, 10]"
      ]
     },
     "execution_count": 17,
     "metadata": {},
     "output_type": "execute_result"
    }
   ],
   "source": [
    "x_values"
   ]
  },
  {
   "cell_type": "code",
   "execution_count": 65,
   "metadata": {},
   "outputs": [],
   "source": [
    "x_train = np.array(x_values,dtype = float)"
   ]
  },
  {
   "cell_type": "code",
   "execution_count": 66,
   "metadata": {},
   "outputs": [
    {
     "data": {
      "text/plain": [
       "numpy.ndarray"
      ]
     },
     "execution_count": 66,
     "metadata": {},
     "output_type": "execute_result"
    }
   ],
   "source": [
    "type(x_train)"
   ]
  },
  {
   "cell_type": "code",
   "execution_count": 67,
   "metadata": {},
   "outputs": [
    {
     "data": {
      "text/plain": [
       "(11,)"
      ]
     },
     "execution_count": 67,
     "metadata": {},
     "output_type": "execute_result"
    }
   ],
   "source": [
    "x_train.shape"
   ]
  },
  {
   "cell_type": "code",
   "execution_count": 68,
   "metadata": {},
   "outputs": [],
   "source": [
    "x_train = np.reshape(x_train,(-1,1))"
   ]
  },
  {
   "cell_type": "code",
   "execution_count": 69,
   "metadata": {},
   "outputs": [],
   "source": [
    "y_values = [2*i + 1 for i in range(11)]"
   ]
  },
  {
   "cell_type": "code",
   "execution_count": 70,
   "metadata": {},
   "outputs": [
    {
     "data": {
      "text/plain": [
       "[1, 3, 5, 7, 9, 11, 13, 15, 17, 19, 21]"
      ]
     },
     "execution_count": 70,
     "metadata": {},
     "output_type": "execute_result"
    }
   ],
   "source": [
    "y_values"
   ]
  },
  {
   "cell_type": "code",
   "execution_count": 71,
   "metadata": {},
   "outputs": [],
   "source": [
    "y_train = np.array(y_values,dtype = float)"
   ]
  },
  {
   "cell_type": "code",
   "execution_count": 72,
   "metadata": {},
   "outputs": [],
   "source": [
    "y_train = np.reshape(y_train,(-1,1))"
   ]
  },
  {
   "cell_type": "code",
   "execution_count": 73,
   "metadata": {},
   "outputs": [
    {
     "data": {
      "text/plain": [
       "(array([[ 0.],\n",
       "        [ 1.],\n",
       "        [ 2.],\n",
       "        [ 3.],\n",
       "        [ 4.],\n",
       "        [ 5.],\n",
       "        [ 6.],\n",
       "        [ 7.],\n",
       "        [ 8.],\n",
       "        [ 9.],\n",
       "        [10.]]), array([[ 1.],\n",
       "        [ 3.],\n",
       "        [ 5.],\n",
       "        [ 7.],\n",
       "        [ 9.],\n",
       "        [11.],\n",
       "        [13.],\n",
       "        [15.],\n",
       "        [17.],\n",
       "        [19.],\n",
       "        [21.]]))"
      ]
     },
     "execution_count": 73,
     "metadata": {},
     "output_type": "execute_result"
    }
   ],
   "source": [
    "x_train,y_train"
   ]
  },
  {
   "cell_type": "markdown",
   "metadata": {},
   "source": [
    "# Import torch"
   ]
  },
  {
   "cell_type": "code",
   "execution_count": 74,
   "metadata": {},
   "outputs": [],
   "source": [
    "import torch\n",
    "import torch.nn as nn\n",
    "from torch.autograd import variable"
   ]
  },
  {
   "cell_type": "markdown",
   "metadata": {},
   "source": [
    "# Linear regression model"
   ]
  },
  {
   "cell_type": "code",
   "execution_count": 75,
   "metadata": {},
   "outputs": [],
   "source": [
    "class LinearRegressionModel(nn.Module):    # inheriting from base class\n",
    "    def __init__(self,input_size,output_size):\n",
    "        super().__init__()\n",
    "        self.linear = nn.Linear(input_dim,output_dim)\n",
    "        \n",
    "    def forward(self,x):\n",
    "        out = self.linear(x)\n",
    "        return out"
   ]
  },
  {
   "cell_type": "markdown",
   "metadata": {},
   "source": [
    "# Instantiate the model"
   ]
  },
  {
   "cell_type": "code",
   "execution_count": 81,
   "metadata": {},
   "outputs": [],
   "source": [
    "input_dim = 1\n",
    "output_dim = 1\n",
    "\n",
    "model = LinearRegressionModel(input_dim,input_dim).double()"
   ]
  },
  {
   "cell_type": "markdown",
   "metadata": {},
   "source": [
    "# Define loss, learning rate and optimizer"
   ]
  },
  {
   "cell_type": "code",
   "execution_count": 82,
   "metadata": {},
   "outputs": [],
   "source": [
    "criterion = nn.MSELoss()\n",
    "\n",
    "learning_rate = 0.01\n",
    "\n",
    "optimizer = torch.optim.SGD(model.parameters(), lr = learning_rate)"
   ]
  },
  {
   "cell_type": "markdown",
   "metadata": {},
   "source": [
    "# Train the model"
   ]
  },
  {
   "cell_type": "code",
   "execution_count": 83,
   "metadata": {},
   "outputs": [],
   "source": [
    "epochs = 100"
   ]
  },
  {
   "cell_type": "code",
   "execution_count": 87,
   "metadata": {},
   "outputs": [
    {
     "name": "stdout",
     "output_type": "stream",
     "text": [
      "epoch 1, loss14.352603861287134\n",
      "epoch 2, loss1.1804423910146982\n",
      "epoch 3, loss0.10592191830615896\n",
      "epoch 4, loss0.018169059865231537\n",
      "epoch 5, loss0.010904923436841983\n",
      "epoch 6, loss0.010207186354305757\n",
      "epoch 7, loss0.010046224768926923\n",
      "epoch 8, loss0.009930208170066424\n",
      "epoch 9, loss0.009819006520276579\n",
      "epoch 10, loss0.009709333709139205\n",
      "epoch 11, loss0.00960090901236313\n",
      "epoch 12, loss0.009493696987189179\n",
      "epoch 13, loss0.0093876823377861\n",
      "epoch 14, loss0.009282851550167528\n",
      "epoch 15, loss0.00917919139266287\n",
      "epoch 16, loss0.009076688792075974\n",
      "epoch 17, loss0.00897533082207148\n",
      "epoch 18, loss0.008875104700731688\n",
      "epoch 19, loss0.00877599778887816\n",
      "epoch 20, loss0.008677997588473062\n",
      "epoch 21, loss0.008581091741041692\n",
      "epoch 22, loss0.008485268026115215\n",
      "epoch 23, loss0.00839051435968826\n",
      "epoch 24, loss0.008296818792695936\n",
      "epoch 25, loss0.008204169509506693\n",
      "epoch 26, loss0.00811255482643225\n",
      "epoch 27, loss0.008021963190254385\n",
      "epoch 28, loss0.007932383176767532\n",
      "epoch 29, loss0.007843803489338856\n",
      "epoch 30, loss0.007756212957482911\n",
      "epoch 31, loss0.007669600535453552\n",
      "epoch 32, loss0.0075839553008508025\n",
      "epoch 33, loss0.007499266453243142\n",
      "epoch 34, loss0.007415523312806017\n",
      "epoch 35, loss0.007332715318974754\n",
      "epoch 36, loss0.0072508320291129495\n",
      "epoch 37, loss0.007169863117195188\n",
      "epoch 38, loss0.00708979837250567\n",
      "epoch 39, loss0.007010627698349487\n",
      "epoch 40, loss0.006932341110780531\n",
      "epoch 41, loss0.00685492873734142\n",
      "epoch 42, loss0.00677838081581911\n",
      "epoch 43, loss0.006702687693013776\n",
      "epoch 44, loss0.0066278398235212034\n",
      "epoch 45, loss0.006553827768529453\n",
      "epoch 46, loss0.0064806421946279145\n",
      "epoch 47, loss0.006408273872631312\n",
      "epoch 48, loss0.006336713676414604\n",
      "epoch 49, loss0.006265952581763259\n",
      "epoch 50, loss0.006195981665234425\n",
      "epoch 51, loss0.006126792103032344\n",
      "epoch 52, loss0.00605837516989459\n",
      "epoch 53, loss0.005990722237993031\n",
      "epoch 54, loss0.005923824775844688\n",
      "epoch 55, loss0.005857674347236625\n",
      "epoch 56, loss0.005792262610161581\n",
      "epoch 57, loss0.005727581315766194\n",
      "epoch 58, loss0.005663622307310954\n",
      "epoch 59, loss0.00560037751914121\n",
      "epoch 60, loss0.005537838975670207\n",
      "epoch 61, loss0.005475998790373545\n",
      "epoch 62, loss0.005414849164794164\n",
      "epoch 63, loss0.005354382387559401\n",
      "epoch 64, loss0.005294590833407851\n",
      "epoch 65, loss0.005235466962228847\n",
      "epoch 66, loss0.005177003318110448\n",
      "epoch 67, loss0.0051191925283997925\n",
      "epoch 68, loss0.005062027302773674\n",
      "epoch 69, loss0.005005500432318347\n",
      "epoch 70, loss0.004949604788621005\n",
      "epoch 71, loss0.004894333322870862\n",
      "epoch 72, loss0.004839679064969998\n",
      "epoch 73, loss0.004785635122654415\n",
      "epoch 74, loss0.004732194680625048\n",
      "epoch 75, loss0.004679350999688229\n",
      "epoch 76, loss0.004627097415905842\n",
      "epoch 77, loss0.004575427339754734\n",
      "epoch 78, loss0.004524334255296128\n",
      "epoch 79, loss0.004473811719353745\n",
      "epoch 80, loss0.004423853360701036\n",
      "epoch 81, loss0.0043744528792581845\n",
      "epoch 82, loss0.004325604045297324\n",
      "epoch 83, loss0.004277300698656791\n",
      "epoch 84, loss0.004229536747964655\n",
      "epoch 85, loss0.004182306169870593\n",
      "epoch 86, loss0.004135603008285637\n",
      "epoch 87, loss0.004089421373631838\n",
      "epoch 88, loss0.004043755442099224\n",
      "epoch 89, loss0.0039985994549113415\n",
      "epoch 90, loss0.003953947717599201\n",
      "epoch 91, loss0.0039097945992828545\n",
      "epoch 92, loss0.003866134531961703\n",
      "epoch 93, loss0.003822962009811977\n",
      "epoch 94, loss0.003780271588492863\n",
      "epoch 95, loss0.0037380578844593507\n",
      "epoch 96, loss0.003696315574283835\n",
      "epoch 97, loss0.003655039393984434\n",
      "epoch 98, loss0.0036142241383614925\n",
      "epoch 99, loss0.0035738646603409073\n",
      "epoch 100, loss0.0035339558703252716\n"
     ]
    },
    {
     "name": "stderr",
     "output_type": "stream",
     "text": [
      "/opt/anaconda3/lib/python3.6/site-packages/torch/autograd/__init__.py:167: UserWarning: torch.autograd.variable(...) is deprecated, use torch.tensor(...) instead\n",
      "  warnings.warn(\"torch.autograd.variable(...) is deprecated, use torch.tensor(...) instead\")\n",
      "/opt/anaconda3/lib/python3.6/site-packages/ipykernel_launcher.py:14: UserWarning: invalid index of a 0-dim tensor. This will be an error in PyTorch 0.5. Use tensor.item() to convert a 0-dim tensor to a Python number\n",
      "  \n"
     ]
    }
   ],
   "source": [
    "for epoch in range(epochs):\n",
    "    epoch += 1\n",
    "    inputs = variable(torch.from_numpy(x_train))\n",
    "    labels = variable(torch.from_numpy(y_train))\n",
    "    \n",
    "    optimizer.zero_grad() # resetting the gradient\n",
    "    \n",
    "    outputs = model(inputs)\n",
    "    \n",
    "    loss = criterion(outputs,labels) # datatypes must be the same \n",
    "    loss.backward() # finding A in y = Ax +b\n",
    "    optimizer.step()\n",
    "    \n",
    "    print(\"epoch {}, loss{}\".format(epoch,loss.data[0]))"
   ]
  },
  {
   "cell_type": "markdown",
   "metadata": {},
   "source": [
    "# Outputs"
   ]
  },
  {
   "cell_type": "code",
   "execution_count": 88,
   "metadata": {},
   "outputs": [
    {
     "data": {
      "text/plain": [
       "tensor([[ 0.8888],\n",
       "        [ 2.9048],\n",
       "        [ 4.9208],\n",
       "        [ 6.9368],\n",
       "        [ 8.9529],\n",
       "        [10.9689],\n",
       "        [12.9849],\n",
       "        [15.0009],\n",
       "        [17.0169],\n",
       "        [19.0329],\n",
       "        [21.0489]], dtype=torch.float64, grad_fn=<ThAddmmBackward>)"
      ]
     },
     "execution_count": 88,
     "metadata": {},
     "output_type": "execute_result"
    }
   ],
   "source": [
    "outputs"
   ]
  },
  {
   "cell_type": "code",
   "execution_count": 89,
   "metadata": {},
   "outputs": [
    {
     "data": {
      "text/plain": [
       "tensor([[ 1.],\n",
       "        [ 3.],\n",
       "        [ 5.],\n",
       "        [ 7.],\n",
       "        [ 9.],\n",
       "        [11.],\n",
       "        [13.],\n",
       "        [15.],\n",
       "        [17.],\n",
       "        [19.],\n",
       "        [21.]], dtype=torch.float64)"
      ]
     },
     "execution_count": 89,
     "metadata": {},
     "output_type": "execute_result"
    }
   ],
   "source": [
    "labels"
   ]
  },
  {
   "cell_type": "code",
   "execution_count": 90,
   "metadata": {},
   "outputs": [
    {
     "data": {
      "text/plain": [
       "array([[ 1.],\n",
       "       [ 3.],\n",
       "       [ 5.],\n",
       "       [ 7.],\n",
       "       [ 9.],\n",
       "       [11.],\n",
       "       [13.],\n",
       "       [15.],\n",
       "       [17.],\n",
       "       [19.],\n",
       "       [21.]])"
      ]
     },
     "execution_count": 90,
     "metadata": {},
     "output_type": "execute_result"
    }
   ],
   "source": [
    "y_train"
   ]
  },
  {
   "cell_type": "code",
   "execution_count": null,
   "metadata": {},
   "outputs": [],
   "source": []
  }
 ],
 "metadata": {
  "kernelspec": {
   "display_name": "Python 3",
   "language": "python",
   "name": "python3"
  },
  "language_info": {
   "codemirror_mode": {
    "name": "ipython",
    "version": 3
   },
   "file_extension": ".py",
   "mimetype": "text/x-python",
   "name": "python",
   "nbconvert_exporter": "python",
   "pygments_lexer": "ipython3",
   "version": "3.6.5"
  }
 },
 "nbformat": 4,
 "nbformat_minor": 2
}
